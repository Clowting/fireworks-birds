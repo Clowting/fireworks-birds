{
 "cells": [
  {
   "cell_type": "markdown",
   "metadata": {
    "id": "QD3FvutQsaqc"
   },
   "source": [
    "##### Copyright 2023 The TensorFlow Hub Authors.\n",
    "\n",
    "Licensed under the Apache License, Version 2.0 (the \"License\");"
   ]
  },
  {
   "cell_type": "code",
   "execution_count": 1,
   "metadata": {
    "id": "-5fm9kVRsfuG"
   },
   "outputs": [],
   "source": [
    "#@title Copyright 2023 The TensorFlow Hub Authors. All Rights Reserved.\n",
    "#\n",
    "# Licensed under the Apache License, Version 2.0 (the \"License\");\n",
    "# you may not use this file except in compliance with the License.\n",
    "# You may obtain a copy of the License at\n",
    "#\n",
    "#     http://www.apache.org/licenses/LICENSE-2.0\n",
    "#\n",
    "# Unless required by applicable law or agreed to in writing, software\n",
    "# distributed under the License is distributed on an \"AS IS\" BASIS,\n",
    "# WITHOUT WARRANTIES OR CONDITIONS OF ANY KIND, either express or implied.\n",
    "# See the License for the specific language governing permissions and\n",
    "# limitations under the License.\n",
    "# =============================================================================="
   ]
  },
  {
   "cell_type": "markdown",
   "metadata": {
    "id": "QNDQZiSGtXMu"
   },
   "source": [
    "<table class=\"tfo-notebook-buttons\" align=\"left\">\n",
    "  <!-- <td>\n",
    "    <a target=\"_blank\" href=\"https://www.tensorflow.org/hub/tutorials/bird_vocalization_classifier\"><img src=\"https://www.tensorflow.org/images/tf_logo_32px.png\" />View on TensorFlow.org</a>\n",
    "  </td> -->\n",
    "  <td>\n",
    "    <a target=\"_blank\" href=\"https://colab.research.google.com/github/tensorflow/hub/blob/master/examples/colab/bird_vocalization_classifier.ipynb\"><img src=\"https://www.tensorflow.org/images/colab_logo_32px.png\" />Run in Google Colab</a>\n",
    "  </td>\n",
    "  <td>\n",
    "    <a target=\"_blank\" href=\"https://github.com/tensorflow/hub/blob/master/examples/colab/bird_vocalization_classifier.ipynb\"><img src=\"https://www.tensorflow.org/images/GitHub-Mark-32px.png\" />View on GitHub</a>\n",
    "  </td>\n",
    "  <td>\n",
    "    <a href=\"https://storage.googleapis.com/tensorflow_docs/hub/examples/colab/bird_vocalization_classifier.ipynb\"><img src=\"https://www.tensorflow.org/images/download_logo_32px.png\" />Download notebook</a>\n",
    "  </td>\n",
    "  <td>\n",
    "    <a href=\"https://tfhub.dev/google/bird-vocalization-classifier/1\"><img src=\"https://www.tensorflow.org/images/hub_logo_32px.png\" />See TF Hub model</a>\n",
    "  </td>\n",
    "</table>"
   ]
  },
  {
   "cell_type": "markdown",
   "metadata": {
    "id": "1JAO_rv_QEBr"
   },
   "source": [
    "# Using Google Bird Vocalization model\n",
    "\n",
    "The Google Bird Vocalization is a global bird embedding and classification model.\n",
    "\n",
    "This model expects as input a 5-second audio segment sampled at 32kHz\n",
    "\n",
    "The model outputs both the logits and the embeddigs for each input window of audio.\n",
    "\n",
    "On this notebook you'll learn how to feed the audio properly to the model and how to use the logits for inference.\n"
   ]
  },
  {
   "cell_type": "code",
   "execution_count": 1,
   "metadata": {
    "id": "bytIYq0MjEKT"
   },
   "outputs": [],
   "source": [
    "# !pip install -q \"tensorflow_io==0.28.*\"\n",
    "!pip install -q tensorflow\n",
    "!pip install -q tensorflow_hub\n",
    "!pip install -q tensorflow_io\n",
    "!pip install -q librosa"
   ]
  },
  {
   "cell_type": "code",
   "execution_count": 49,
   "metadata": {
    "id": "aXXTdq-eq6lk"
   },
   "outputs": [],
   "source": [
    "import tensorflow as tf\n",
    "import tensorflow_hub as hub\n",
    "import tensorflow_io as tfio\n",
    "import multiprocessing as mp\n",
    "\n",
    "import numpy as np\n",
    "import librosa\n",
    "\n",
    "import csv\n",
    "import io\n",
    "import os\n",
    "\n",
    "from IPython.display import Audio\n",
    "from datetime import timedelta"
   ]
  },
  {
   "cell_type": "markdown",
   "metadata": {
    "id": "B6mFpgMWQjgk"
   },
   "source": [
    "Loading the Model from TFHub"
   ]
  },
  {
   "cell_type": "code",
   "execution_count": 2,
   "metadata": {
    "id": "CQ1P3IkpQiya"
   },
   "outputs": [
    {
     "name": "stderr",
     "output_type": "stream",
     "text": [
      "2023-05-24 13:48:30.946522: W tensorflow/tsl/framework/cpu_allocator_impl.cc:83] Allocation of 55971840 exceeds 10% of free system memory.\n"
     ]
    }
   ],
   "source": [
    "model_handle = \"https://tfhub.dev/google/bird-vocalization-classifier/1\"\n",
    "model = hub.load(model_handle)"
   ]
  },
  {
   "cell_type": "markdown",
   "metadata": {
    "id": "3OOw23B3fZT6"
   },
   "source": [
    "Lets load the labels that the model was trained on.\n",
    "\n",
    "The labels file is in the assets forlder under label.csv. Each line is an ebird id."
   ]
  },
  {
   "cell_type": "code",
   "execution_count": 3,
   "metadata": {
    "id": "f5i-R4k9ZhwN"
   },
   "outputs": [],
   "source": [
    "# Find the name of the class with the top score when mean-aggregated across frames.\n",
    "def class_names_from_csv(class_map_csv_text):\n",
    "  \"\"\"Returns list of class names corresponding to score vector.\"\"\"\n",
    "  with open(labels_path) as csv_file:\n",
    "    csv_reader = csv.reader(csv_file, delimiter=',')\n",
    "    class_names = [mid for mid, desc in csv_reader]\n",
    "    return class_names[1:]\n",
    "\n",
    "labels_path = hub.resolve(model_handle) + \"/assets/label.csv\"\n",
    "classes = class_names_from_csv(labels_path)\n",
    "#print(classes)"
   ]
  },
  {
   "cell_type": "markdown",
   "metadata": {
    "id": "b2JYPafeRRi_"
   },
   "source": [
    "The ```frame_audio``` function is based on the [Chirp lib](https://github.com/google-research/chirp/blob/10c5faa325a3c3468fa6f18a736fc1aeb9bf8129/chirp/inference/interface.py#L128) version but using tf.signal instead of librosa.\n",
    "\n",
    "The `ensure_sample_rate` is a function to make sure that any audio used with the model has the expected sample rate of 32kHz"
   ]
  },
  {
   "cell_type": "code",
   "execution_count": 4,
   "metadata": {
    "id": "t65gi_DTrRaa"
   },
   "outputs": [],
   "source": [
    "def frame_audio(\n",
    "      audio_array: np.ndarray,\n",
    "      window_size_s: float = 5.0,\n",
    "      hop_size_s: float = 5.0,\n",
    "      sample_rate = 32000,\n",
    "  ) -> np.ndarray:\n",
    "    \"\"\"Helper function for framing audio for inference.\"\"\"\n",
    "    if window_size_s is None or window_size_s < 0:\n",
    "      return audio_array[np.newaxis, :]\n",
    "    frame_length = int(window_size_s * sample_rate)\n",
    "    hop_length = int(hop_size_s * sample_rate)\n",
    "    framed_audio = tf.signal.frame(audio_array, frame_length, hop_length, pad_end=True)\n",
    "    return framed_audio\n",
    "\n",
    "def ensure_sample_rate(waveform, original_sample_rate,\n",
    "                       desired_sample_rate=32000):\n",
    "  \"\"\"Resample waveform if required.\"\"\"\n",
    "  if original_sample_rate != desired_sample_rate:\n",
    "    waveform = tfio.audio.resample(waveform, original_sample_rate, desired_sample_rate)\n",
    "  return desired_sample_rate, waveform"
   ]
  },
  {
   "cell_type": "code",
   "execution_count": 37,
   "metadata": {},
   "outputs": [],
   "source": [
    "def save_results_to_csv(sensor, filename, all_logits, classes):\n",
    "    # opening the csv file in 'w' mode\n",
    "    file_location = f\"results/{sensor}/\" + filename.split('.')[0] + '.csv'\n",
    "    file = open(file_location, 'w', newline ='')\n",
    "\n",
    "    with file:\n",
    "        # identifying header \n",
    "        header = ['frame', 'time', 'class', 'probability', 'probability_rank']\n",
    "        writer = csv.DictWriter(file, fieldnames = header)\n",
    "\n",
    "        # writing data row-wise into the csv file\n",
    "        writer.writeheader()\n",
    "\n",
    "        frame = 0\n",
    "        for frame_logits in all_logits:\n",
    "            probabilities = tf.nn.softmax(frame_logits).numpy()\n",
    "            argmax = np.argmax(probabilities)\n",
    "            td = timedelta(seconds = frame * 5)\n",
    "\n",
    "            # Calculate the 5 highest probabilities at each timeframe\n",
    "            top5_ind = (-probabilities).argsort()[:5]\n",
    "            top5_classes = np.array(classes)[top5_ind]\n",
    "            top5_props = probabilities[top5_ind]\n",
    "            prob_rank = 1\n",
    "        \n",
    "            for t5_cls, t5_prp in zip(top5_classes, top5_props):\n",
    "                writer.writerow({'frame' : frame,\n",
    "                                 'time': td,\n",
    "                                 'class': t5_cls,\n",
    "                                 'probability': float(t5_prp),\n",
    "                                 'probability_rank': prob_rank})\n",
    "                prob_rank += 1\n",
    "\n",
    "            frame += 1"
   ]
  },
  {
   "cell_type": "code",
   "execution_count": 39,
   "metadata": {},
   "outputs": [],
   "source": [
    "def split_list(alist, wanted_parts=1):\n",
    "    length = len(alist)\n",
    "    return [ alist[i*length // wanted_parts: (i+1)*length // wanted_parts] \n",
    "             for i in range(wanted_parts) ]"
   ]
  },
  {
   "cell_type": "code",
   "execution_count": 53,
   "metadata": {},
   "outputs": [
    {
     "data": {
      "text/plain": [
       "['20221230_143000.ogg',\n",
       " '20221230_213000.ogg',\n",
       " '20221231_000001.ogg',\n",
       " '20221231_060000.ogg',\n",
       " '20221231_143000.ogg',\n",
       " '20221231_213000.ogg',\n",
       " '20230101_000001.ogg',\n",
       " '20230101_060000.ogg',\n",
       " '20230101_143000.ogg',\n",
       " '20230101_213000.ogg',\n",
       " '20230102_000001.ogg',\n",
       " '20230102_060000.ogg',\n",
       " '20230102_143000.ogg',\n",
       " '20230102_213000.ogg',\n",
       " '20230103_000001.ogg',\n",
       " '20230103_060000.ogg',\n",
       " '20230103_143000.ogg',\n",
       " '20230103_213000.ogg',\n",
       " '20230104_000001.ogg',\n",
       " '20230104_060000.ogg',\n",
       " '20230104_143000.ogg',\n",
       " '20230104_213000.ogg',\n",
       " '20230105_000001.ogg',\n",
       " '20230105_060000.ogg',\n",
       " '20230105_143000.ogg',\n",
       " '20230105_213000.ogg',\n",
       " '20230106_000001.ogg',\n",
       " '20230106_060000.ogg',\n",
       " '20230106_143000.ogg',\n",
       " '20230106_213000.ogg',\n",
       " '20230107_000001.ogg',\n",
       " '20230107_060000.ogg',\n",
       " '20230107_143000.ogg',\n",
       " '20230107_213000.ogg',\n",
       " '20230108_000001.ogg',\n",
       " '20230108_060000.ogg']"
      ]
     },
     "execution_count": 53,
     "metadata": {},
     "output_type": "execute_result"
    }
   ],
   "source": [
    "# Get the list of all files and directories\n",
    "sensor = '9_035_217'\n",
    "# sensor = '1_041_209'\n",
    "\n",
    "path = f\"/data/volume_2/audio_recordings/{sensor}/ogg/\"\n",
    "audio_recordings = os.listdir(path)\n",
    "\n",
    "audio_recordings_done = [f.replace('csv', 'ogg') for f in os.listdir(f\"results/{sensor}/\")]\n",
    "\n",
    "audio_recordings_todo = list(set(audio_recordings) - set(audio_recordings_done))\n",
    "audio_recordings_todo.sort()\n",
    "audio_recordings_todo"
   ]
  },
  {
   "cell_type": "code",
   "execution_count": 54,
   "metadata": {},
   "outputs": [],
   "source": [
    "def process_audio_recording(audio_recording):\n",
    "    print('Processing audio recording: ', audio_recording)\n",
    "    #audio, sample_rate = __audioread_load(path + audio_recording)\n",
    "    audio, sample_rate = librosa.load(path + audio_recording)\n",
    "    sample_rate, wav_data = ensure_sample_rate(audio, sample_rate)\n",
    "    \n",
    "    # Audio(wav_data_turdus, rate=sample_rate)\n",
    "    \n",
    "    fixed_tm = frame_audio(wav_data)\n",
    "    # fixed_tm.shape\n",
    "    \n",
    "    all_logits, all_embeddings = model.infer_tf(fixed_tm[:1])\n",
    "    \n",
    "    for window in fixed_tm[1:]:\n",
    "        logits, embeddings = model.infer_tf(window[np.newaxis, :])\n",
    "        all_logits = np.concatenate([all_logits, logits], axis=0)\n",
    "        \n",
    "    \n",
    "    save_results_to_csv(sensor, audio_recording, all_logits, classes)\n",
    "    print('Processing audio recording finished: ', audio_recording)"
   ]
  },
  {
   "cell_type": "code",
   "execution_count": 55,
   "metadata": {},
   "outputs": [
    {
     "name": "stdout",
     "output_type": "stream",
     "text": [
      "Processing audio recording:  20221230_143000.ogg\n",
      "Processing audio recording finished:  20221230_143000.ogg\n",
      "Processing audio recording:  20221230_213000.ogg\n",
      "Processing audio recording finished:  20221230_213000.ogg\n",
      "Processing audio recording:  20221231_000001.ogg\n",
      "Processing audio recording finished:  20221231_000001.ogg\n",
      "Processing audio recording:  20221231_060000.ogg\n",
      "Processing audio recording finished:  20221231_060000.ogg\n",
      "Processing audio recording:  20221231_143000.ogg\n",
      "Processing audio recording finished:  20221231_143000.ogg\n",
      "Processing audio recording:  20221231_213000.ogg\n",
      "Processing audio recording finished:  20221231_213000.ogg\n",
      "Processing audio recording:  20230101_000001.ogg\n",
      "Processing audio recording finished:  20230101_000001.ogg\n",
      "Processing audio recording:  20230101_060000.ogg\n",
      "Processing audio recording finished:  20230101_060000.ogg\n",
      "Processing audio recording:  20230101_143000.ogg\n",
      "Processing audio recording finished:  20230101_143000.ogg\n",
      "Processing audio recording:  20230101_213000.ogg\n",
      "Processing audio recording finished:  20230101_213000.ogg\n",
      "Processing audio recording:  20230102_000001.ogg\n",
      "Processing audio recording finished:  20230102_000001.ogg\n",
      "Processing audio recording:  20230102_060000.ogg\n",
      "Processing audio recording finished:  20230102_060000.ogg\n",
      "Processing audio recording:  20230102_143000.ogg\n",
      "Processing audio recording finished:  20230102_143000.ogg\n",
      "Processing audio recording:  20230102_213000.ogg\n",
      "Processing audio recording finished:  20230102_213000.ogg\n",
      "Processing audio recording:  20230103_000001.ogg\n",
      "Processing audio recording finished:  20230103_000001.ogg\n",
      "Processing audio recording:  20230103_060000.ogg\n",
      "Processing audio recording finished:  20230103_060000.ogg\n",
      "Processing audio recording:  20230103_143000.ogg\n",
      "Processing audio recording finished:  20230103_143000.ogg\n",
      "Processing audio recording:  20230103_213000.ogg\n",
      "Processing audio recording finished:  20230103_213000.ogg\n",
      "Processing audio recording:  20230104_000001.ogg\n",
      "Processing audio recording finished:  20230104_000001.ogg\n",
      "Processing audio recording:  20230104_060000.ogg\n",
      "Processing audio recording finished:  20230104_060000.ogg\n",
      "Processing audio recording:  20230104_143000.ogg\n",
      "Processing audio recording finished:  20230104_143000.ogg\n",
      "Processing audio recording:  20230104_213000.ogg\n",
      "Processing audio recording finished:  20230104_213000.ogg\n",
      "Processing audio recording:  20230105_000001.ogg\n",
      "Processing audio recording finished:  20230105_000001.ogg\n",
      "Processing audio recording:  20230105_060000.ogg\n",
      "Processing audio recording finished:  20230105_060000.ogg\n",
      "Processing audio recording:  20230105_143000.ogg\n",
      "Processing audio recording finished:  20230105_143000.ogg\n",
      "Processing audio recording:  20230105_213000.ogg\n",
      "Processing audio recording finished:  20230105_213000.ogg\n",
      "Processing audio recording:  20230106_000001.ogg\n",
      "Processing audio recording finished:  20230106_000001.ogg\n",
      "Processing audio recording:  20230106_060000.ogg\n",
      "Processing audio recording finished:  20230106_060000.ogg\n",
      "Processing audio recording:  20230106_143000.ogg\n",
      "Processing audio recording finished:  20230106_143000.ogg\n",
      "Processing audio recording:  20230106_213000.ogg\n",
      "Processing audio recording finished:  20230106_213000.ogg\n",
      "Processing audio recording:  20230107_000001.ogg\n",
      "Processing audio recording finished:  20230107_000001.ogg\n",
      "Processing audio recording:  20230107_060000.ogg\n",
      "Processing audio recording finished:  20230107_060000.ogg\n",
      "Processing audio recording:  20230107_143000.ogg\n",
      "Processing audio recording finished:  20230107_143000.ogg\n",
      "Processing audio recording:  20230107_213000.ogg\n",
      "Processing audio recording finished:  20230107_213000.ogg\n",
      "Processing audio recording:  20230108_000001.ogg\n",
      "Processing audio recording finished:  20230108_000001.ogg\n",
      "Processing audio recording:  20230108_060000.ogg\n",
      "Processing audio recording finished:  20230108_060000.ogg\n"
     ]
    }
   ],
   "source": [
    "for audio_recording in audio_recordings_todo:\n",
    "    process_audio_recording(audio_recording)"
   ]
  },
  {
   "cell_type": "code",
   "execution_count": 32,
   "metadata": {},
   "outputs": [
    {
     "name": "stdout",
     "output_type": "stream",
     "text": [
      "Processing audio recording:  20221230_143000.ogg\n",
      "Frame: 0 contains: commoo3 0.057859786 1\n",
      "Frame: 0 contains: mallar3 0.031186381 2\n",
      "Frame: 0 contains: loeowl 0.021188833 3\n",
      "Frame: 0 contains: grebit1 0.019686805 4\n",
      "Frame: 0 contains: tawowl1 0.018183853 5\n",
      "Frame: 1 contains: whtspa 0.02424339 1\n",
      "Frame: 1 contains: tawowl1 0.015073772 2\n",
      "Frame: 1 contains: eueowl1 0.014807262 3\n",
      "Frame: 1 contains: eurnig1 0.01457802 4\n",
      "Frame: 1 contains: loeowl 0.013993418 5\n",
      "Frame: 2 contains: eurrob1 0.17550966 1\n",
      "Frame: 2 contains: gretit1 0.072275065 2\n",
      "Frame: 2 contains: firecr1 0.066433884 3\n",
      "Frame: 2 contains: blutit 0.04213808 4\n",
      "Frame: 2 contains: shttre1 0.038900517 5\n",
      "Frame: 3 contains: tawowl1 0.04314288 1\n",
      "Frame: 3 contains: loeowl 0.02879544 2\n",
      "Frame: 3 contains: eueowl1 0.02271987 3\n",
      "Frame: 3 contains: whtspa 0.01923624 4\n",
      "Frame: 3 contains: eurnig1 0.01734746 5\n",
      "Frame: 4 contains: duswar 0.11968703 1\n",
      "Frame: 4 contains: eupfly1 0.028006194 2\n",
      "Frame: 4 contains: ortbun1 0.024787296 3\n",
      "Frame: 4 contains: corbun1 0.020611584 4\n",
      "Frame: 4 contains: eurnig1 0.014905302 5\n",
      "Frame: 5 contains: blawoo1 0.12234669 1\n",
      "Frame: 5 contains: bkbwoo 0.034833606 2\n",
      "Frame: 5 contains: ettwoo1 0.020156719 3\n",
      "Frame: 5 contains: ortbun1 0.014631839 4\n",
      "Frame: 5 contains: eurnig1 0.013873381 5\n",
      "Frame: 6 contains: whtspa 0.022313803 1\n",
      "Frame: 6 contains: ortbun1 0.021476965 2\n",
      "Frame: 6 contains: tawowl1 0.013523578 3\n",
      "Frame: 6 contains: commoo3 0.01185607 4\n",
      "Frame: 6 contains: eueowl1 0.011383303 5\n",
      "Frame: 7 contains: commoo3 0.048846815 1\n",
      "Frame: 7 contains: whtspa 0.0257656 2\n",
      "Frame: 7 contains: blawoo1 0.024675088 3\n",
      "Frame: 7 contains: loeowl 0.014961172 4\n",
      "Frame: 7 contains: tawowl1 0.014293933 5\n",
      "Frame: 8 contains: eueowl1 0.042090505 1\n",
      "Frame: 8 contains: tawowl1 0.041289225 2\n",
      "Frame: 8 contains: commoo3 0.024332391 3\n",
      "Frame: 8 contains: loeowl 0.022618944 4\n",
      "Frame: 8 contains: eurrob1 0.019255446 5\n",
      "Frame: 9 contains: tawowl1 0.10488068 1\n",
      "Frame: 9 contains: blawoo1 0.07197875 2\n",
      "Frame: 9 contains: loeowl 0.053949106 3\n",
      "Frame: 9 contains: ettwoo1 0.017179921 4\n",
      "Frame: 9 contains: whtspa 0.016892957 5\n",
      "Frame: 10 contains: eurcoo 0.056467928 1\n",
      "Frame: 10 contains: tawowl1 0.047804784 2\n",
      "Frame: 10 contains: commoo3 0.01960527 3\n",
      "Frame: 10 contains: blujay 0.017782127 4\n",
      "Frame: 10 contains: brnowl 0.01567643 5\n",
      "Frame: 11 contains: comqua1 0.59520954 1\n",
      "Frame: 11 contains: eurnig1 0.070317164 2\n",
      "Frame: 11 contains: spocra1 0.05448766 3\n",
      "Frame: 11 contains: commoo3 0.021858037 4\n",
      "Frame: 11 contains: eurwig 0.013069243 5\n"
     ]
    }
   ],
   "source": [
    "audio_recording = audio_recordings_todo[0]\n",
    "\n",
    "print('Processing audio recording: ', audio_recording)\n",
    "#audio, sample_rate = __audioread_load(path + audio_recording)\n",
    "audio, sample_rate = librosa.load(path + audio_recording, duration=60)\n",
    "sample_rate, wav_data = ensure_sample_rate(audio, sample_rate)\n",
    "\n",
    "# Audio(wav_data_turdus, rate=sample_rate)\n",
    "\n",
    "fixed_tm = frame_audio(wav_data)\n",
    "# fixed_tm.shape\n",
    "\n",
    "all_logits, all_embeddings = model.infer_tf(fixed_tm[:1])\n",
    "\n",
    "for window in fixed_tm[1:]:\n",
    "    logits, embeddings = model.infer_tf(window[np.newaxis, :])\n",
    "    all_logits = np.concatenate([all_logits, logits], axis=0)\n",
    "    \n",
    "\n",
    "save_results_to_csv(sensor, audio_recording, all_logits, classes)\n",
    "\n",
    "frame = 0\n",
    "for frame_logits in all_logits:\n",
    "    probabilities = tf.nn.softmax(frame_logits).numpy()\n",
    "    argmax = np.argmax(probabilities)\n",
    "\n",
    "    top5_ind = (-probabilities).argsort()[:5]\n",
    "    top5_classes = np.array(classes)[top5_ind]\n",
    "    top5_props = probabilities[top5_ind]\n",
    "    prob_rank = 1\n",
    "\n",
    "    for t5_cls, t5_prp in zip(top5_classes, top5_props):\n",
    "        print('Frame:', frame, 'contains:', t5_cls, t5_prp, prob_rank)\n",
    "        prob_rank += 1\n",
    "\n",
    "    frame += 1"
   ]
  },
  {
   "cell_type": "code",
   "execution_count": null,
   "metadata": {},
   "outputs": [],
   "source": []
  },
  {
   "cell_type": "markdown",
   "metadata": {
    "id": "sjpKLk9K7TTV"
   },
   "source": [
    "The audio files are a maximum of 1 hour and the model expects chunks of 5 seconds.\n",
    "\n",
    "The `frame_audio` function can fix that and split the audio in proper frames"
   ]
  },
  {
   "cell_type": "markdown",
   "metadata": {
    "id": "bGK84egXBg2f"
   },
   "source": [
    "Lets apply the model on all the frames now:\n",
    "\n",
    "*note*: this code is also based on the [Chirp library](https://github.com/google-research/chirp/blob/d6ff5e7cee3865940f31697bf4b70176c1072572/chirp/inference/models.py#L174)"
   ]
  },
  {
   "cell_type": "code",
   "execution_count": 11,
   "metadata": {
    "id": "UT_Im9i50EGy"
   },
   "outputs": [
    {
     "data": {
      "text/plain": [
       "(720, 10932)"
      ]
     },
     "execution_count": 11,
     "metadata": {},
     "output_type": "execute_result"
    }
   ],
   "source": [
    "all_logits, all_embeddings = model.infer_tf(fixed_tm[:1])\n",
    "for window in fixed_tm[1:]:\n",
    "  logits, embeddings = model.infer_tf(window[np.newaxis, :])\n",
    "  all_logits = np.concatenate([all_logits, logits], axis=0)\n",
    "\n",
    "all_logits.shape"
   ]
  },
  {
   "cell_type": "code",
   "execution_count": 12,
   "metadata": {
    "id": "kKuJWq4SxyR1"
   },
   "outputs": [
    {
     "name": "stdout",
     "output_type": "stream",
     "text": [
      "For frame 38 at 0:03:10, the audio is from the class eurrob1 (element:3244 in the label.csv file), with probability of 0.8288521766662598\n",
      "For frame 39 at 0:03:15, the audio is from the class martit2 (element:5499 in the label.csv file), with probability of 0.9985539317131042\n",
      "For frame 42 at 0:03:30, the audio is from the class eurnut2 (element:3241 in the label.csv file), with probability of 0.9394095540046692\n",
      "For frame 45 at 0:03:45, the audio is from the class eurnut2 (element:3241 in the label.csv file), with probability of 0.9762986302375793\n",
      "For frame 46 at 0:03:50, the audio is from the class eurnut2 (element:3241 in the label.csv file), with probability of 0.9221656322479248\n",
      "For frame 50 at 0:04:10, the audio is from the class gretit1 (element:3953 in the label.csv file), with probability of 0.878087043762207\n",
      "For frame 52 at 0:04:20, the audio is from the class martit2 (element:5499 in the label.csv file), with probability of 0.9930181503295898\n",
      "For frame 57 at 0:04:45, the audio is from the class martit2 (element:5499 in the label.csv file), with probability of 0.9912007451057434\n",
      "For frame 71 at 0:05:55, the audio is from the class grswoo (element:4037 in the label.csv file), with probability of 0.8854660391807556\n",
      "For frame 72 at 0:06:00, the audio is from the class martit2 (element:5499 in the label.csv file), with probability of 0.8179030418395996\n",
      "For frame 82 at 0:06:50, the audio is from the class miswoo1 (element:5690 in the label.csv file), with probability of 0.9450858235359192\n",
      "For frame 83 at 0:06:55, the audio is from the class martit2 (element:5499 in the label.csv file), with probability of 0.8805713653564453\n",
      "For frame 86 at 0:07:10, the audio is from the class grswoo (element:4037 in the label.csv file), with probability of 0.8462840914726257\n",
      "For frame 87 at 0:07:15, the audio is from the class miswoo1 (element:5690 in the label.csv file), with probability of 0.9554886817932129\n",
      "For frame 88 at 0:07:20, the audio is from the class miswoo1 (element:5690 in the label.csv file), with probability of 0.9933865666389465\n",
      "For frame 89 at 0:07:25, the audio is from the class miswoo1 (element:5690 in the label.csv file), with probability of 0.9741230607032776\n",
      "For frame 90 at 0:07:30, the audio is from the class martit2 (element:5499 in the label.csv file), with probability of 0.9881792068481445\n",
      "For frame 92 at 0:07:40, the audio is from the class martit2 (element:5499 in the label.csv file), with probability of 0.9364614486694336\n",
      "For frame 94 at 0:07:50, the audio is from the class martit2 (element:5499 in the label.csv file), with probability of 0.9878351092338562\n",
      "For frame 97 at 0:08:05, the audio is from the class martit2 (element:5499 in the label.csv file), with probability of 0.9958601593971252\n",
      "For frame 99 at 0:08:15, the audio is from the class martit2 (element:5499 in the label.csv file), with probability of 0.9986140727996826\n",
      "For frame 103 at 0:08:35, the audio is from the class eurrob1 (element:3244 in the label.csv file), with probability of 0.8150140643119812\n",
      "For frame 107 at 0:08:55, the audio is from the class gretit1 (element:3953 in the label.csv file), with probability of 0.964607834815979\n",
      "For frame 108 at 0:09:00, the audio is from the class gretit1 (element:3953 in the label.csv file), with probability of 0.8353248834609985\n",
      "For frame 109 at 0:09:05, the audio is from the class gretit1 (element:3953 in the label.csv file), with probability of 0.9427926540374756\n",
      "For frame 113 at 0:09:25, the audio is from the class martit2 (element:5499 in the label.csv file), with probability of 0.9583401083946228\n",
      "For frame 118 at 0:09:50, the audio is from the class eurnut2 (element:3241 in the label.csv file), with probability of 0.989218533039093\n",
      "For frame 161 at 0:13:25, the audio is from the class martit2 (element:5499 in the label.csv file), with probability of 0.9785866141319275\n",
      "For frame 162 at 0:13:30, the audio is from the class martit2 (element:5499 in the label.csv file), with probability of 0.9918217062950134\n",
      "For frame 163 at 0:13:35, the audio is from the class martit2 (element:5499 in the label.csv file), with probability of 0.9971567392349243\n",
      "For frame 171 at 0:14:15, the audio is from the class martit2 (element:5499 in the label.csv file), with probability of 0.9999316930770874\n",
      "For frame 173 at 0:14:25, the audio is from the class martit2 (element:5499 in the label.csv file), with probability of 0.9996405839920044\n",
      "For frame 174 at 0:14:30, the audio is from the class martit2 (element:5499 in the label.csv file), with probability of 0.9829434156417847\n",
      "For frame 175 at 0:14:35, the audio is from the class martit2 (element:5499 in the label.csv file), with probability of 0.9994091987609863\n",
      "For frame 176 at 0:14:40, the audio is from the class martit2 (element:5499 in the label.csv file), with probability of 0.9994457364082336\n",
      "For frame 178 at 0:14:50, the audio is from the class gretit1 (element:3953 in the label.csv file), with probability of 0.8694183230400085\n",
      "For frame 179 at 0:14:55, the audio is from the class martit2 (element:5499 in the label.csv file), with probability of 0.9998377561569214\n",
      "For frame 185 at 0:15:25, the audio is from the class grswoo (element:4037 in the label.csv file), with probability of 0.8577314019203186\n",
      "For frame 186 at 0:15:30, the audio is from the class grswoo (element:4037 in the label.csv file), with probability of 0.9646674394607544\n",
      "For frame 187 at 0:15:35, the audio is from the class grswoo (element:4037 in the label.csv file), with probability of 0.9935793876647949\n",
      "For frame 188 at 0:15:40, the audio is from the class grswoo (element:4037 in the label.csv file), with probability of 0.9564023613929749\n",
      "For frame 189 at 0:15:45, the audio is from the class grswoo (element:4037 in the label.csv file), with probability of 0.9734662771224976\n",
      "For frame 190 at 0:15:50, the audio is from the class grswoo (element:4037 in the label.csv file), with probability of 0.9351834058761597\n",
      "For frame 191 at 0:15:55, the audio is from the class grswoo (element:4037 in the label.csv file), with probability of 0.9716784358024597\n",
      "For frame 192 at 0:16:00, the audio is from the class grswoo (element:4037 in the label.csv file), with probability of 0.9814484715461731\n",
      "For frame 193 at 0:16:05, the audio is from the class grswoo (element:4037 in the label.csv file), with probability of 0.9690282344818115\n",
      "For frame 194 at 0:16:10, the audio is from the class martit2 (element:5499 in the label.csv file), with probability of 0.8375355005264282\n",
      "For frame 195 at 0:16:15, the audio is from the class grswoo (element:4037 in the label.csv file), with probability of 0.9285958409309387\n",
      "For frame 196 at 0:16:20, the audio is from the class grswoo (element:4037 in the label.csv file), with probability of 0.8174010515213013\n",
      "For frame 198 at 0:16:30, the audio is from the class grswoo (element:4037 in the label.csv file), with probability of 0.8651330471038818\n",
      "For frame 200 at 0:16:40, the audio is from the class grswoo (element:4037 in the label.csv file), with probability of 0.8554344773292542\n",
      "For frame 202 at 0:16:50, the audio is from the class grswoo (element:4037 in the label.csv file), with probability of 0.9608138203620911\n",
      "For frame 205 at 0:17:05, the audio is from the class martit2 (element:5499 in the label.csv file), with probability of 0.9725692272186279\n",
      "For frame 217 at 0:18:05, the audio is from the class gretit1 (element:3953 in the label.csv file), with probability of 0.8108227849006653\n",
      "For frame 234 at 0:19:30, the audio is from the class eurnut2 (element:3241 in the label.csv file), with probability of 0.884397566318512\n",
      "For frame 235 at 0:19:35, the audio is from the class eurnut2 (element:3241 in the label.csv file), with probability of 0.802592396736145\n",
      "For frame 236 at 0:19:40, the audio is from the class eurnut2 (element:3241 in the label.csv file), with probability of 0.9107968211174011\n",
      "For frame 245 at 0:20:25, the audio is from the class gretit1 (element:3953 in the label.csv file), with probability of 0.8931218981742859\n",
      "For frame 247 at 0:20:35, the audio is from the class gretit1 (element:3953 in the label.csv file), with probability of 0.8153308629989624\n",
      "For frame 248 at 0:20:40, the audio is from the class gretit1 (element:3953 in the label.csv file), with probability of 0.9850760102272034\n",
      "For frame 249 at 0:20:45, the audio is from the class gretit1 (element:3953 in the label.csv file), with probability of 0.9802799224853516\n",
      "For frame 250 at 0:20:50, the audio is from the class gretit1 (element:3953 in the label.csv file), with probability of 0.9180399775505066\n",
      "For frame 258 at 0:21:30, the audio is from the class eurrob1 (element:3244 in the label.csv file), with probability of 0.918913722038269\n",
      "For frame 264 at 0:22:00, the audio is from the class eurrob1 (element:3244 in the label.csv file), with probability of 0.9414907097816467\n",
      "For frame 282 at 0:23:30, the audio is from the class gretit1 (element:3953 in the label.csv file), with probability of 0.9140318036079407\n",
      "For frame 287 at 0:23:55, the audio is from the class gretit1 (element:3953 in the label.csv file), with probability of 0.8453232049942017\n",
      "For frame 293 at 0:24:25, the audio is from the class gretit1 (element:3953 in the label.csv file), with probability of 0.9713448286056519\n",
      "For frame 295 at 0:24:35, the audio is from the class gretit1 (element:3953 in the label.csv file), with probability of 0.8569397330284119\n",
      "For frame 298 at 0:24:50, the audio is from the class gretit1 (element:3953 in the label.csv file), with probability of 0.8015550374984741\n",
      "For frame 303 at 0:25:15, the audio is from the class martit2 (element:5499 in the label.csv file), with probability of 0.8438729047775269\n",
      "For frame 308 at 0:25:40, the audio is from the class eurbla (element:3217 in the label.csv file), with probability of 0.8516743183135986\n",
      "For frame 314 at 0:26:10, the audio is from the class grswoo (element:4037 in the label.csv file), with probability of 0.8206732869148254\n",
      "For frame 339 at 0:28:15, the audio is from the class eurnut2 (element:3241 in the label.csv file), with probability of 0.9618688225746155\n",
      "For frame 340 at 0:28:20, the audio is from the class eurnut2 (element:3241 in the label.csv file), with probability of 0.8481084108352661\n",
      "For frame 344 at 0:28:40, the audio is from the class pifgoo (element:6673 in the label.csv file), with probability of 0.9028016328811646\n",
      "For frame 345 at 0:28:45, the audio is from the class pifgoo (element:6673 in the label.csv file), with probability of 0.8259845972061157\n",
      "For frame 349 at 0:29:05, the audio is from the class eurbla (element:3217 in the label.csv file), with probability of 0.8731695413589478\n",
      "For frame 355 at 0:29:35, the audio is from the class martit2 (element:5499 in the label.csv file), with probability of 0.9972555041313171\n",
      "For frame 357 at 0:29:45, the audio is from the class martit2 (element:5499 in the label.csv file), with probability of 0.8508731722831726\n",
      "For frame 361 at 0:30:05, the audio is from the class gretit1 (element:3953 in the label.csv file), with probability of 0.9476098418235779\n",
      "For frame 362 at 0:30:10, the audio is from the class eurnut2 (element:3241 in the label.csv file), with probability of 0.9998006224632263\n",
      "For frame 363 at 0:30:15, the audio is from the class eurnut2 (element:3241 in the label.csv file), with probability of 0.9983320832252502\n",
      "For frame 364 at 0:30:20, the audio is from the class eurnut2 (element:3241 in the label.csv file), with probability of 0.8355766534805298\n",
      "For frame 367 at 0:30:35, the audio is from the class eurnut2 (element:3241 in the label.csv file), with probability of 0.8583197593688965\n",
      "For frame 371 at 0:30:55, the audio is from the class martit2 (element:5499 in the label.csv file), with probability of 0.9924771189689636\n",
      "For frame 379 at 0:31:35, the audio is from the class eurnut2 (element:3241 in the label.csv file), with probability of 0.9618602991104126\n",
      "For frame 380 at 0:31:40, the audio is from the class eurnut2 (element:3241 in the label.csv file), with probability of 0.9848436713218689\n",
      "For frame 382 at 0:31:50, the audio is from the class eurnut2 (element:3241 in the label.csv file), with probability of 0.9419071078300476\n",
      "For frame 383 at 0:31:55, the audio is from the class eurnut2 (element:3241 in the label.csv file), with probability of 0.9847918748855591\n",
      "For frame 384 at 0:32:00, the audio is from the class eurnut2 (element:3241 in the label.csv file), with probability of 0.8298777341842651\n",
      "For frame 387 at 0:32:15, the audio is from the class eurnut2 (element:3241 in the label.csv file), with probability of 0.9944948554039001\n",
      "For frame 388 at 0:32:20, the audio is from the class eurnut2 (element:3241 in the label.csv file), with probability of 0.9717364311218262\n",
      "For frame 389 at 0:32:25, the audio is from the class eurnut2 (element:3241 in the label.csv file), with probability of 0.990321695804596\n",
      "For frame 390 at 0:32:30, the audio is from the class eurnut2 (element:3241 in the label.csv file), with probability of 0.9255807995796204\n",
      "For frame 396 at 0:33:00, the audio is from the class shttre1 (element:8277 in the label.csv file), with probability of 0.9511532783508301\n",
      "For frame 405 at 0:33:45, the audio is from the class shttre1 (element:8277 in the label.csv file), with probability of 0.968513011932373\n",
      "For frame 406 at 0:33:50, the audio is from the class shttre1 (element:8277 in the label.csv file), with probability of 0.9236301779747009\n",
      "For frame 408 at 0:34:00, the audio is from the class shttre1 (element:8277 in the label.csv file), with probability of 0.9501033425331116\n",
      "For frame 409 at 0:34:05, the audio is from the class shttre1 (element:8277 in the label.csv file), with probability of 0.8903165459632874\n",
      "For frame 410 at 0:34:10, the audio is from the class gwfgoo (element:4154 in the label.csv file), with probability of 0.913179874420166\n",
      "For frame 411 at 0:34:15, the audio is from the class gwfgoo (element:4154 in the label.csv file), with probability of 0.8616213202476501\n",
      "For frame 416 at 0:34:40, the audio is from the class shttre1 (element:8277 in the label.csv file), with probability of 0.8770795464515686\n",
      "For frame 420 at 0:35:00, the audio is from the class shttre1 (element:8277 in the label.csv file), with probability of 0.8033742308616638\n",
      "For frame 423 at 0:35:15, the audio is from the class shttre1 (element:8277 in the label.csv file), with probability of 0.9293034076690674\n",
      "For frame 424 at 0:35:20, the audio is from the class shttre1 (element:8277 in the label.csv file), with probability of 0.9255484938621521\n",
      "For frame 425 at 0:35:25, the audio is from the class shttre1 (element:8277 in the label.csv file), with probability of 0.9739644527435303\n",
      "For frame 426 at 0:35:30, the audio is from the class shttre1 (element:8277 in the label.csv file), with probability of 0.9004775285720825\n",
      "For frame 427 at 0:35:35, the audio is from the class shttre1 (element:8277 in the label.csv file), with probability of 0.8465089797973633\n",
      "For frame 429 at 0:35:45, the audio is from the class shttre1 (element:8277 in the label.csv file), with probability of 0.9778556227684021\n",
      "For frame 430 at 0:35:50, the audio is from the class shttre1 (element:8277 in the label.csv file), with probability of 0.9009852409362793\n",
      "For frame 433 at 0:36:05, the audio is from the class shttre1 (element:8277 in the label.csv file), with probability of 0.9506991505622864\n",
      "For frame 435 at 0:36:15, the audio is from the class shttre1 (element:8277 in the label.csv file), with probability of 0.9513056874275208\n",
      "For frame 436 at 0:36:20, the audio is from the class shttre1 (element:8277 in the label.csv file), with probability of 0.8745419979095459\n",
      "For frame 439 at 0:36:35, the audio is from the class shttre1 (element:8277 in the label.csv file), with probability of 0.8080750703811646\n",
      "For frame 442 at 0:36:50, the audio is from the class martit2 (element:5499 in the label.csv file), with probability of 0.940068244934082\n",
      "For frame 446 at 0:37:10, the audio is from the class eurnut2 (element:3241 in the label.csv file), with probability of 0.9943252205848694\n",
      "For frame 447 at 0:37:15, the audio is from the class eurnut2 (element:3241 in the label.csv file), with probability of 0.9592747092247009\n",
      "For frame 448 at 0:37:20, the audio is from the class eurnut2 (element:3241 in the label.csv file), with probability of 0.9492632746696472\n",
      "For frame 449 at 0:37:25, the audio is from the class eurnut2 (element:3241 in the label.csv file), with probability of 0.8585246205329895\n",
      "For frame 450 at 0:37:30, the audio is from the class eurnut2 (element:3241 in the label.csv file), with probability of 0.9182071089744568\n",
      "For frame 451 at 0:37:35, the audio is from the class eurnut2 (element:3241 in the label.csv file), with probability of 0.8486988544464111\n",
      "For frame 454 at 0:37:50, the audio is from the class eurnut2 (element:3241 in the label.csv file), with probability of 0.8122093677520752\n",
      "For frame 511 at 0:42:35, the audio is from the class martit2 (element:5499 in the label.csv file), with probability of 0.9892962574958801\n",
      "For frame 512 at 0:42:40, the audio is from the class martit2 (element:5499 in the label.csv file), with probability of 0.9085933566093445\n",
      "For frame 513 at 0:42:45, the audio is from the class martit2 (element:5499 in the label.csv file), with probability of 0.8400538563728333\n",
      "For frame 514 at 0:42:50, the audio is from the class martit2 (element:5499 in the label.csv file), with probability of 0.9405916333198547\n",
      "For frame 515 at 0:42:55, the audio is from the class martit2 (element:5499 in the label.csv file), with probability of 0.890243411064148\n",
      "For frame 517 at 0:43:05, the audio is from the class martit2 (element:5499 in the label.csv file), with probability of 0.804389476776123\n",
      "For frame 523 at 0:43:35, the audio is from the class eurnut2 (element:3241 in the label.csv file), with probability of 0.9091899394989014\n",
      "For frame 524 at 0:43:40, the audio is from the class eurnut2 (element:3241 in the label.csv file), with probability of 0.8558720350265503\n",
      "For frame 527 at 0:43:55, the audio is from the class spocra1 (element:8762 in the label.csv file), with probability of 0.9772235155105591\n",
      "For frame 579 at 0:48:15, the audio is from the class martit2 (element:5499 in the label.csv file), with probability of 0.9748139977455139\n",
      "For frame 580 at 0:48:20, the audio is from the class martit2 (element:5499 in the label.csv file), with probability of 0.8878605961799622\n",
      "For frame 582 at 0:48:30, the audio is from the class martit2 (element:5499 in the label.csv file), with probability of 0.9950746893882751\n",
      "For frame 604 at 0:50:20, the audio is from the class gretit1 (element:3953 in the label.csv file), with probability of 0.9794436693191528\n",
      "For frame 605 at 0:50:25, the audio is from the class gretit1 (element:3953 in the label.csv file), with probability of 0.9422537088394165\n",
      "For frame 611 at 0:50:55, the audio is from the class eurbla (element:3217 in the label.csv file), with probability of 0.9688757061958313\n",
      "For frame 626 at 0:52:10, the audio is from the class gretit1 (element:3953 in the label.csv file), with probability of 0.8619447350502014\n",
      "For frame 627 at 0:52:15, the audio is from the class gretit1 (element:3953 in the label.csv file), with probability of 0.9823855757713318\n",
      "For frame 628 at 0:52:20, the audio is from the class gretit1 (element:3953 in the label.csv file), with probability of 0.9362279176712036\n",
      "For frame 629 at 0:52:25, the audio is from the class gretit1 (element:3953 in the label.csv file), with probability of 0.886669397354126\n",
      "For frame 630 at 0:52:30, the audio is from the class gretit1 (element:3953 in the label.csv file), with probability of 0.9820130467414856\n",
      "For frame 631 at 0:52:35, the audio is from the class gretit1 (element:3953 in the label.csv file), with probability of 0.9850550889968872\n",
      "For frame 633 at 0:52:45, the audio is from the class gretit1 (element:3953 in the label.csv file), with probability of 0.8654524087905884\n",
      "For frame 634 at 0:52:50, the audio is from the class eurrob1 (element:3244 in the label.csv file), with probability of 0.9400975704193115\n",
      "For frame 643 at 0:53:35, the audio is from the class gretit1 (element:3953 in the label.csv file), with probability of 0.9233343601226807\n",
      "For frame 645 at 0:53:45, the audio is from the class gretit1 (element:3953 in the label.csv file), with probability of 0.8859274983406067\n",
      "For frame 647 at 0:53:55, the audio is from the class gretit1 (element:3953 in the label.csv file), with probability of 0.9516419768333435\n",
      "For frame 648 at 0:54:00, the audio is from the class gretit1 (element:3953 in the label.csv file), with probability of 0.833299994468689\n",
      "For frame 651 at 0:54:15, the audio is from the class gretit1 (element:3953 in the label.csv file), with probability of 0.9099273085594177\n",
      "For frame 652 at 0:54:20, the audio is from the class gretit1 (element:3953 in the label.csv file), with probability of 0.9504281282424927\n",
      "For frame 653 at 0:54:25, the audio is from the class gretit1 (element:3953 in the label.csv file), with probability of 0.8635512590408325\n",
      "For frame 656 at 0:54:40, the audio is from the class gretit1 (element:3953 in the label.csv file), with probability of 0.8485736846923828\n"
     ]
    }
   ],
   "source": [
    "frame = 0\n",
    "for frame_logits in all_logits:\n",
    "  probabilities = tf.nn.softmax(frame_logits)\n",
    "  argmax = np.argmax(probabilities)\n",
    "  \n",
    "  if probabilities[argmax] > 0.8:\n",
    "      td = timedelta(seconds=frame*5)\n",
    "      print(f\"For frame {frame} at {td}, the audio is from the class {classes[argmax]} (element:{argmax} in the label.csv file), with probability of {probabilities[argmax]}\")\n",
    "  frame += 1"
   ]
  },
  {
   "cell_type": "code",
   "execution_count": 17,
   "metadata": {},
   "outputs": [],
   "source": []
  },
  {
   "cell_type": "code",
   "execution_count": null,
   "metadata": {},
   "outputs": [],
   "source": []
  }
 ],
 "metadata": {
  "accelerator": "GPU",
  "colab": {
   "name": "bird_vocalization_classifier.ipynb",
   "provenance": [],
   "toc_visible": true
  },
  "kernelspec": {
   "display_name": "Python 3 (ipykernel)",
   "language": "python",
   "name": "python3"
  },
  "language_info": {
   "codemirror_mode": {
    "name": "ipython",
    "version": 3
   },
   "file_extension": ".py",
   "mimetype": "text/x-python",
   "name": "python",
   "nbconvert_exporter": "python",
   "pygments_lexer": "ipython3",
   "version": "3.10.0"
  }
 },
 "nbformat": 4,
 "nbformat_minor": 4
}
