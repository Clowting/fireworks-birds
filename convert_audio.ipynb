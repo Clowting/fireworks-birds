{
 "cells": [
  {
   "cell_type": "code",
   "execution_count": 4,
   "id": "0a741ce2-01b3-4776-a8b7-3720f6e40840",
   "metadata": {},
   "outputs": [],
   "source": [
    "import os\n",
    "import subprocess"
   ]
  },
  {
   "cell_type": "code",
   "execution_count": 5,
   "id": "e8aaaf9d-b919-4e41-a075-1325d241d4ba",
   "metadata": {},
   "outputs": [],
   "source": [
    "# root_folder = r\"E:\\audio_fireworks\\1_041_209\"\n",
    "root_folder = r\"E:\\audio_fireworks\\9_035_217\"\n",
    "input_folder = \".\\wav\"\n",
    "output_folder = \".\\ogg\"\n",
    "\n",
    "file_names = os.listdir(os.path.join(root_folder, input_folder))"
   ]
  },
  {
   "cell_type": "code",
   "execution_count": 6,
   "id": "08aae558-9515-448e-b2e0-b75004f5c757",
   "metadata": {},
   "outputs": [
    {
     "name": "stdout",
     "output_type": "stream",
     "text": [
      "Processing:  20221230_143000.WAV\n",
      "Finished processing:  20221230_143000.WAV\n",
      "Processing:  20221230_213000.WAV\n",
      "Finished processing:  20221230_213000.WAV\n",
      "Processing:  20221231_000001.WAV\n",
      "Finished processing:  20221231_000001.WAV\n",
      "Processing:  20221231_060000.WAV\n",
      "Finished processing:  20221231_060000.WAV\n",
      "Processing:  20221231_143000.WAV\n",
      "Finished processing:  20221231_143000.WAV\n",
      "Processing:  20221231_213000.WAV\n",
      "Finished processing:  20221231_213000.WAV\n",
      "Processing:  20230101_000001.WAV\n",
      "Finished processing:  20230101_000001.WAV\n",
      "Processing:  20230101_060000.WAV\n",
      "Finished processing:  20230101_060000.WAV\n",
      "Processing:  20230101_143000.WAV\n",
      "Finished processing:  20230101_143000.WAV\n",
      "Processing:  20230101_213000.WAV\n",
      "Finished processing:  20230101_213000.WAV\n"
     ]
    }
   ],
   "source": [
    "for file_name in file_names:\n",
    "    if file_name.endswith(\".WAV\"):\n",
    "        input_file_path = os.path.join(input_folder, file_name)\n",
    "        output_file_path = os.path.join(output_folder, f\"{os.path.splitext(file_name)[0]}_%d.ogg\")\n",
    "        process = subprocess.Popen([\"ffmpeg\", \"-i\", input_file_path, \"-acodec\", \"libvorbis\", \"-ar\", \"32k\", \"-f\", \"segment\", \"-segment_time\", \"3600\", output_file_path], cwd=root_folder)\n",
    "        print('Processing: ', file_name)\n",
    "        process.wait()\n",
    "        print('Finished processing: ', file_name)"
   ]
  },
  {
   "cell_type": "code",
   "execution_count": null,
   "id": "30205602-7da8-4f80-ad6b-2d4a96d90674",
   "metadata": {},
   "outputs": [],
   "source": []
  }
 ],
 "metadata": {
  "kernelspec": {
   "display_name": "Python 3 (ipykernel)",
   "language": "python",
   "name": "python3"
  },
  "language_info": {
   "codemirror_mode": {
    "name": "ipython",
    "version": 3
   },
   "file_extension": ".py",
   "mimetype": "text/x-python",
   "name": "python",
   "nbconvert_exporter": "python",
   "pygments_lexer": "ipython3",
   "version": "3.10.9"
  }
 },
 "nbformat": 4,
 "nbformat_minor": 5
}
