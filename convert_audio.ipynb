{
 "cells": [
  {
   "cell_type": "markdown",
   "id": "f29039b1-3419-4ca7-9815-8f55d74d4551",
   "metadata": {
    "tags": []
   },
   "source": [
    "# Converting audio from WAV to OGG\n",
    "This script was later replaced by the following unix commands:"
   ]
  },
  {
   "cell_type": "code",
   "execution_count": 2,
   "id": "9801f320-0079-4f21-ad3e-78c3ca52274f",
   "metadata": {},
   "outputs": [],
   "source": [
    "#for i in *.mp3; do ffmpeg -i \"$i\" -acodec libvorbis -ar 32k \"ogg/${i%.*}.ogg\"; done\n",
    "\n",
    "#for i in *.wav; do ffmpeg -i \"$i\" -acodec libvorbis -ar 32k -f segment -segment_time 5 \"ogg_5s/${i%.*}_%d.ogg\"; done\n",
    "\n",
    "#for i in *.wav; do ffmpeg -i \"$i\" -acodec libvorbis -ar 32k -reset_timestamps 1 -sc_threshold 0 -g 5 -force_key_frames \"expr:gte(t, n_forced * 5)\" -f segment -segment_time 5 \"ogg_5s/${i%.*}_%d.ogg\"; done\n",
    "\n",
    "#for i in *.mp3; do ffmpeg -i \"$i\" -acodec libvorbis -ar 32k -reset_timestamps 1 -sc_threshold 0 -g 5 -force_key_frames \"expr:gte(t, n_forced * 5)\" -f segment -segment_time 5 \"ogg_5s/${i%.*}_%d.ogg\"; done"
   ]
  },
  {
   "cell_type": "code",
   "execution_count": 2,
   "id": "0a741ce2-01b3-4776-a8b7-3720f6e40840",
   "metadata": {},
   "outputs": [],
   "source": [
    "import os\n",
    "import subprocess"
   ]
  },
  {
   "cell_type": "code",
   "execution_count": 9,
   "id": "11b840d3-0c0a-46a6-a3f5-44921ec7b0ba",
   "metadata": {},
   "outputs": [
    {
     "data": {
      "text/plain": [
       "['20221230_143000.WAV',\n",
       " '20221230_213000.WAV',\n",
       " '20221231_000001.WAV',\n",
       " '20221231_060000.WAV',\n",
       " '20221231_143000.WAV',\n",
       " '20221231_213000.WAV',\n",
       " '20230101_000001.WAV',\n",
       " '20230101_060000.WAV',\n",
       " '20230101_143000.WAV',\n",
       " '20230101_213000.WAV']"
      ]
     },
     "execution_count": 9,
     "metadata": {},
     "output_type": "execute_result"
    }
   ],
   "source": [
    "# Get the list of all files and directories\n",
    "sensor = '9_035_217'\n",
    "# sensor = '1_041_209'\n",
    "\n",
    "root_folder = f\"/data/volume_2/audio_recordings/{sensor}\"\n",
    "input_folder = \"./wav\"\n",
    "output_folder = \"./ogg\"\n",
    "\n",
    "audio_recordings = os.listdir(os.path.join(root_folder, input_folder))\n",
    "\n",
    "audio_recordings_done = [f.replace('ogg', 'WAV') for f in os.listdir(os.path.join(root_folder, output_folder))]\n",
    "\n",
    "audio_recordings_todo = list(set(audio_recordings) - set(audio_recordings_done))\n",
    "audio_recordings_todo.sort()\n",
    "audio_recordings_todo"
   ]
  },
  {
   "cell_type": "code",
   "execution_count": 10,
   "id": "08aae558-9515-448e-b2e0-b75004f5c757",
   "metadata": {},
   "outputs": [
    {
     "name": "stdout",
     "output_type": "stream",
     "text": [
      "Processing:  20221230_143000.WAV\n"
     ]
    },
    {
     "name": "stderr",
     "output_type": "stream",
     "text": [
      "ffmpeg version 4.2.7-0ubuntu0.1 Copyright (c) 2000-2022 the FFmpeg developers\n",
      "  built with gcc 9 (Ubuntu 9.4.0-1ubuntu1~20.04.1)\n",
      "  configuration: --prefix=/usr --extra-version=0ubuntu0.1 --toolchain=hardened --libdir=/usr/lib/x86_64-linux-gnu --incdir=/usr/include/x86_64-linux-gnu --arch=amd64 --enable-gpl --disable-stripping --enable-avresample --disable-filter=resample --enable-avisynth --enable-gnutls --enable-ladspa --enable-libaom --enable-libass --enable-libbluray --enable-libbs2b --enable-libcaca --enable-libcdio --enable-libcodec2 --enable-libflite --enable-libfontconfig --enable-libfreetype --enable-libfribidi --enable-libgme --enable-libgsm --enable-libjack --enable-libmp3lame --enable-libmysofa --enable-libopenjpeg --enable-libopenmpt --enable-libopus --enable-libpulse --enable-librsvg --enable-librubberband --enable-libshine --enable-libsnappy --enable-libsoxr --enable-libspeex --enable-libssh --enable-libtheora --enable-libtwolame --enable-libvidstab --enable-libvorbis --enable-libvpx --enable-libwavpack --enable-libwebp --enable-libx265 --enable-libxml2 --enable-libxvid --enable-libzmq --enable-libzvbi --enable-lv2 --enable-omx --enable-openal --enable-opencl --enable-opengl --enable-sdl2 --enable-libdc1394 --enable-libdrm --enable-libiec61883 --enable-nvenc --enable-chromaprint --enable-frei0r --enable-libx264 --enable-shared\n",
      "  libavutil      56. 31.100 / 56. 31.100\n",
      "  libavcodec     58. 54.100 / 58. 54.100\n",
      "  libavformat    58. 29.100 / 58. 29.100\n",
      "  libavdevice    58.  8.100 / 58.  8.100\n",
      "  libavfilter     7. 57.100 /  7. 57.100\n",
      "  libavresample   4.  0.  0 /  4.  0.  0\n",
      "  libswscale      5.  5.100 /  5.  5.100\n",
      "  libswresample   3.  5.100 /  3.  5.100\n",
      "  libpostproc    55.  5.100 / 55.  5.100\n",
      "Guessed Channel Layout for Input Stream #0.0 : mono\n",
      "Input #0, wav, from './wav/20221230_143000.WAV':\n",
      "  Metadata:\n",
      "    comment         : Recorded at 14:30:00 30/12/2022 (UTC) by AudioMoth 24A04F085FDF2285 at medium gain setting while battery state was 4.2V and temperature was 8.2C.\n",
      "    artist          : AudioMoth 24A04F085FDF2285\n",
      "  Duration: 03:00:00.00, bitrate: 3072 kb/s\n",
      "    Stream #0:0: Audio: pcm_s16le ([1][0][0][0] / 0x0001), 192000 Hz, mono, s16, 3072 kb/s\n",
      "Stream mapping:\n",
      "  Stream #0:0 -> #0:0 (pcm_s16le (native) -> vorbis (libvorbis))\n",
      "Press [q] to stop, [?] for help\n",
      "Output #0, ogg, to './ogg/20221230_143000.ogg':\n",
      "  Metadata:\n",
      "    comment         : Recorded at 14:30:00 30/12/2022 (UTC) by AudioMoth 24A04F085FDF2285 at medium gain setting while battery state was 4.2V and temperature was 8.2C.\n",
      "    artist          : AudioMoth 24A04F085FDF2285\n",
      "    encoder         : Lavf58.29.100\n",
      "    Stream #0:0: Audio: vorbis (libvorbis), 32000 Hz, mono, fltp\n",
      "    Metadata:\n",
      "      encoder         : Lavc58.54.100 libvorbis\n",
      "      DESCRIPTION     : Recorded at 14:30:00 30/12/2022 (UTC) by AudioMoth 24A04F085FDF2285 at medium gain setting while battery state was 4.2V and temperature was 8.2C.\n",
      "      artist          : AudioMoth 24A04F085FDF2285\n",
      "size=   83812kB time=02:59:59.98 bitrate=  63.6kbits/s speed=60.4x    \n",
      "video:0kB audio:83003kB subtitle:0kB other streams:0kB global headers:3kB muxing overhead: 0.974883%\n",
      "ffmpeg version 4.2.7-0ubuntu0.1 Copyright (c) 2000-2022 the FFmpeg developers\n",
      "  built with gcc 9 (Ubuntu 9.4.0-1ubuntu1~20.04.1)\n",
      "  configuration: --prefix=/usr --extra-version=0ubuntu0.1 --toolchain=hardened --libdir=/usr/lib/x86_64-linux-gnu --incdir=/usr/include/x86_64-linux-gnu --arch=amd64 --enable-gpl --disable-stripping --enable-avresample --disable-filter=resample --enable-avisynth --enable-gnutls --enable-ladspa --enable-libaom --enable-libass --enable-libbluray --enable-libbs2b --enable-libcaca --enable-libcdio --enable-libcodec2 --enable-libflite --enable-libfontconfig --enable-libfreetype --enable-libfribidi --enable-libgme --enable-libgsm --enable-libjack --enable-libmp3lame --enable-libmysofa --enable-libopenjpeg --enable-libopenmpt --enable-libopus --enable-libpulse --enable-librsvg --enable-librubberband --enable-libshine --enable-libsnappy --enable-libsoxr --enable-libspeex --enable-libssh --enable-libtheora --enable-libtwolame --enable-libvidstab --enable-libvorbis --enable-libvpx --enable-libwavpack --enable-libwebp --enable-libx265 --enable-libxml2 --enable-libxvid --enable-libzmq --enable-libzvbi --enable-lv2 --enable-omx --enable-openal --enable-opencl --enable-opengl --enable-sdl2 --enable-libdc1394 --enable-libdrm --enable-libiec61883 --enable-nvenc --enable-chromaprint --enable-frei0r --enable-libx264 --enable-shared\n",
      "  libavutil      56. 31.100 / 56. 31.100\n",
      "  libavcodec     58. 54.100 / 58. 54.100\n",
      "  libavformat    58. 29.100 / 58. 29.100\n",
      "  libavdevice    58.  8.100 / 58.  8.100\n",
      "  libavfilter     7. 57.100 /  7. 57.100\n",
      "  libavresample   4.  0.  0 /  4.  0.  0\n",
      "  libswscale      5.  5.100 /  5.  5.100\n",
      "  libswresample   3.  5.100 /  3.  5.100\n",
      "  libpostproc    55.  5.100 / 55.  5.100\n",
      "Guessed Channel Layout for Input Stream #0.0 : mono\n",
      "Input #0, wav, from './wav/20221230_213000.WAV':\n",
      "  Metadata:\n",
      "    comment         : Recorded at 21:30:00 30/12/2022 (UTC) by AudioMoth 24A04F085FDF2285 at medium gain setting while battery state was 4.1V and temperature was 12.0C.\n",
      "    artist          : AudioMoth 24A04F085FDF2285\n",
      "  Duration: 02:30:00.00, bitrate: 3072 kb/s\n",
      "    Stream #0:0: Audio: pcm_s16le ([1][0][0][0] / 0x0001), 192000 Hz, mono, s16, 3072 kb/s\n",
      "Stream mapping:\n",
      "  Stream #0:0 -> #0:0 (pcm_s16le (native) -> vorbis (libvorbis))\n",
      "Press [q] to stop, [?] for help\n",
      "Output #0, ogg, to './ogg/20221230_213000.ogg':\n",
      "  Metadata:\n",
      "    comment         : Recorded at 21:30:00 30/12/2022 (UTC) by AudioMoth 24A04F085FDF2285 at medium gain setting while battery state was 4.1V and temperature was 12.0C.\n",
      "    artist          : AudioMoth 24A04F085FDF2285\n",
      "    encoder         : Lavf58.29.100\n",
      "    Stream #0:0: Audio: vorbis (libvorbis), 32000 Hz, mono, fltp\n",
      "    Metadata:\n",
      "      encoder         : Lavc58.54.100 libvorbis\n",
      "      DESCRIPTION     : Recorded at 21:30:00 30/12/2022 (UTC) by AudioMoth 24A04F085FDF2285 at medium gain setting while battery state was 4.1V and temperature was 12.0C.\n",
      "      artist          : AudioMoth 24A04F085FDF2285\n"
     ]
    },
    {
     "name": "stdout",
     "output_type": "stream",
     "text": [
      "Finished processing:  20221230_143000.WAV\n",
      "Processing:  20221230_213000.WAV\n"
     ]
    },
    {
     "name": "stderr",
     "output_type": "stream",
     "text": [
      "size=   74890kB time=02:29:59.98 bitrate=  68.2kbits/s speed=60.8x    \n",
      "video:0kB audio:73968kB subtitle:0kB other streams:0kB global headers:3kB muxing overhead: 1.247760%\n",
      "ffmpeg version 4.2.7-0ubuntu0.1 Copyright (c) 2000-2022 the FFmpeg developers\n",
      "  built with gcc 9 (Ubuntu 9.4.0-1ubuntu1~20.04.1)\n",
      "  configuration: --prefix=/usr --extra-version=0ubuntu0.1 --toolchain=hardened --libdir=/usr/lib/x86_64-linux-gnu --incdir=/usr/include/x86_64-linux-gnu --arch=amd64 --enable-gpl --disable-stripping --enable-avresample --disable-filter=resample --enable-avisynth --enable-gnutls --enable-ladspa --enable-libaom --enable-libass --enable-libbluray --enable-libbs2b --enable-libcaca --enable-libcdio --enable-libcodec2 --enable-libflite --enable-libfontconfig --enable-libfreetype --enable-libfribidi --enable-libgme --enable-libgsm --enable-libjack --enable-libmp3lame --enable-libmysofa --enable-libopenjpeg --enable-libopenmpt --enable-libopus --enable-libpulse --enable-librsvg --enable-librubberband --enable-libshine --enable-libsnappy --enable-libsoxr --enable-libspeex --enable-libssh --enable-libtheora --enable-libtwolame --enable-libvidstab --enable-libvorbis --enable-libvpx --enable-libwavpack --enable-libwebp --enable-libx265 --enable-libxml2 --enable-libxvid --enable-libzmq --enable-libzvbi --enable-lv2 --enable-omx --enable-openal --enable-opencl --enable-opengl --enable-sdl2 --enable-libdc1394 --enable-libdrm --enable-libiec61883 --enable-nvenc --enable-chromaprint --enable-frei0r --enable-libx264 --enable-shared\n",
      "  libavutil      56. 31.100 / 56. 31.100\n",
      "  libavcodec     58. 54.100 / 58. 54.100\n",
      "  libavformat    58. 29.100 / 58. 29.100\n",
      "  libavdevice    58.  8.100 / 58.  8.100\n",
      "  libavfilter     7. 57.100 /  7. 57.100\n",
      "  libavresample   4.  0.  0 /  4.  0.  0\n",
      "  libswscale      5.  5.100 /  5.  5.100\n",
      "  libswresample   3.  5.100 /  3.  5.100\n",
      "  libpostproc    55.  5.100 / 55.  5.100\n"
     ]
    },
    {
     "name": "stdout",
     "output_type": "stream",
     "text": [
      "Finished processing:  20221230_213000.WAV\n",
      "Processing:  20221231_000001.WAV\n"
     ]
    },
    {
     "name": "stderr",
     "output_type": "stream",
     "text": [
      "Guessed Channel Layout for Input Stream #0.0 : mono\n",
      "Input #0, wav, from './wav/20221231_000001.WAV':\n",
      "  Metadata:\n",
      "    comment         : Recorded at 00:00:01 31/12/2022 (UTC) by AudioMoth 24A04F085FDF2285 at medium gain setting while battery state was 4.0V and temperature was 14.0C.\n",
      "    artist          : AudioMoth 24A04F085FDF2285\n",
      "  Duration: 00:29:59.00, bitrate: 3072 kb/s\n",
      "    Stream #0:0: Audio: pcm_s16le ([1][0][0][0] / 0x0001), 192000 Hz, mono, s16, 3072 kb/s\n",
      "Stream mapping:\n",
      "  Stream #0:0 -> #0:0 (pcm_s16le (native) -> vorbis (libvorbis))\n",
      "Press [q] to stop, [?] for help\n",
      "Output #0, ogg, to './ogg/20221231_000001.ogg':\n",
      "  Metadata:\n",
      "    comment         : Recorded at 00:00:01 31/12/2022 (UTC) by AudioMoth 24A04F085FDF2285 at medium gain setting while battery state was 4.0V and temperature was 14.0C.\n",
      "    artist          : AudioMoth 24A04F085FDF2285\n",
      "    encoder         : Lavf58.29.100\n",
      "    Stream #0:0: Audio: vorbis (libvorbis), 32000 Hz, mono, fltp\n",
      "    Metadata:\n",
      "      encoder         : Lavc58.54.100 libvorbis\n",
      "      DESCRIPTION     : Recorded at 00:00:01 31/12/2022 (UTC) by AudioMoth 24A04F085FDF2285 at medium gain setting while battery state was 4.0V and temperature was 14.0C.\n",
      "      artist          : AudioMoth 24A04F085FDF2285\n",
      "size=   15884kB time=00:29:58.99 bitrate=  72.3kbits/s speed=60.2x    \n",
      "video:0kB audio:15652kB subtitle:0kB other streams:0kB global headers:3kB muxing overhead: 1.480986%\n",
      "ffmpeg version 4.2.7-0ubuntu0.1 Copyright (c) 2000-2022 the FFmpeg developers\n",
      "  built with gcc 9 (Ubuntu 9.4.0-1ubuntu1~20.04.1)\n",
      "  configuration: --prefix=/usr --extra-version=0ubuntu0.1 --toolchain=hardened --libdir=/usr/lib/x86_64-linux-gnu --incdir=/usr/include/x86_64-linux-gnu --arch=amd64 --enable-gpl --disable-stripping --enable-avresample --disable-filter=resample --enable-avisynth --enable-gnutls --enable-ladspa --enable-libaom --enable-libass --enable-libbluray --enable-libbs2b --enable-libcaca --enable-libcdio --enable-libcodec2 --enable-libflite --enable-libfontconfig --enable-libfreetype --enable-libfribidi --enable-libgme --enable-libgsm --enable-libjack --enable-libmp3lame --enable-libmysofa --enable-libopenjpeg --enable-libopenmpt --enable-libopus --enable-libpulse --enable-librsvg --enable-librubberband --enable-libshine --enable-libsnappy --enable-libsoxr --enable-libspeex --enable-libssh --enable-libtheora --enable-libtwolame --enable-libvidstab --enable-libvorbis --enable-libvpx --enable-libwavpack --enable-libwebp --enable-libx265 --enable-libxml2 --enable-libxvid --enable-libzmq --enable-libzvbi --enable-lv2 --enable-omx --enable-openal --enable-opencl --enable-opengl --enable-sdl2 --enable-libdc1394 --enable-libdrm --enable-libiec61883 --enable-nvenc --enable-chromaprint --enable-frei0r --enable-libx264 --enable-shared\n",
      "  libavutil      56. 31.100 / 56. 31.100\n",
      "  libavcodec     58. 54.100 / 58. 54.100\n",
      "  libavformat    58. 29.100 / 58. 29.100\n",
      "  libavdevice    58.  8.100 / 58.  8.100\n",
      "  libavfilter     7. 57.100 /  7. 57.100\n",
      "  libavresample   4.  0.  0 /  4.  0.  0\n",
      "  libswscale      5.  5.100 /  5.  5.100\n",
      "  libswresample   3.  5.100 /  3.  5.100\n",
      "  libpostproc    55.  5.100 / 55.  5.100\n",
      "Guessed Channel Layout for Input Stream #0.0 : mono\n",
      "Input #0, wav, from './wav/20221231_060000.WAV':\n",
      "  Metadata:\n",
      "    comment         : Recorded at 06:00:00 31/12/2022 (UTC) by AudioMoth 24A04F085FDF2285 at medium gain setting while battery state was 4.1V and temperature was 11.5C.\n",
      "    artist          : AudioMoth 24A04F085FDF2285\n",
      "  Duration: 03:00:00.00, bitrate: 3072 kb/s\n",
      "    Stream #0:0: Audio: pcm_s16le ([1][0][0][0] / 0x0001), 192000 Hz, mono, s16, 3072 kb/s\n",
      "Stream mapping:\n",
      "  Stream #0:0 -> #0:0 (pcm_s16le (native) -> vorbis (libvorbis))\n",
      "Press [q] to stop, [?] for help\n",
      "Output #0, ogg, to './ogg/20221231_060000.ogg':\n",
      "  Metadata:\n",
      "    comment         : Recorded at 06:00:00 31/12/2022 (UTC) by AudioMoth 24A04F085FDF2285 at medium gain setting while battery state was 4.1V and temperature was 11.5C.\n",
      "    artist          : AudioMoth 24A04F085FDF2285\n",
      "    encoder         : Lavf58.29.100\n",
      "    Stream #0:0: Audio: vorbis (libvorbis), 32000 Hz, mono, fltp\n",
      "    Metadata:\n",
      "      encoder         : Lavc58.54.100 libvorbis\n",
      "      DESCRIPTION     : Recorded at 06:00:00 31/12/2022 (UTC) by AudioMoth 24A04F085FDF2285 at medium gain setting while battery state was 4.1V and temperature was 11.5C.\n",
      "      artist          : AudioMoth 24A04F085FDF2285\n"
     ]
    },
    {
     "name": "stdout",
     "output_type": "stream",
     "text": [
      "Finished processing:  20221231_000001.WAV\n",
      "Processing:  20221231_060000.WAV\n"
     ]
    },
    {
     "name": "stderr",
     "output_type": "stream",
     "text": [
      "size=   93502kB time=02:59:59.99 bitrate=  70.9kbits/s speed=55.2x    \n",
      "video:0kB audio:92228kB subtitle:0kB other streams:0kB global headers:3kB muxing overhead: 1.382057%\n",
      "ffmpeg version 4.2.7-0ubuntu0.1 Copyright (c) 2000-2022 the FFmpeg developers\n",
      "  built with gcc 9 (Ubuntu 9.4.0-1ubuntu1~20.04.1)\n",
      "  configuration: --prefix=/usr --extra-version=0ubuntu0.1 --toolchain=hardened --libdir=/usr/lib/x86_64-linux-gnu --incdir=/usr/include/x86_64-linux-gnu --arch=amd64 --enable-gpl --disable-stripping --enable-avresample --disable-filter=resample --enable-avisynth --enable-gnutls --enable-ladspa --enable-libaom --enable-libass --enable-libbluray --enable-libbs2b --enable-libcaca --enable-libcdio --enable-libcodec2 --enable-libflite --enable-libfontconfig --enable-libfreetype --enable-libfribidi --enable-libgme --enable-libgsm --enable-libjack --enable-libmp3lame --enable-libmysofa --enable-libopenjpeg --enable-libopenmpt --enable-libopus --enable-libpulse --enable-librsvg --enable-librubberband --enable-libshine --enable-libsnappy --enable-libsoxr --enable-libspeex --enable-libssh --enable-libtheora --enable-libtwolame --enable-libvidstab --enable-libvorbis --enable-libvpx --enable-libwavpack --enable-libwebp --enable-libx265 --enable-libxml2 --enable-libxvid --enable-libzmq --enable-libzvbi --enable-lv2 --enable-omx --enable-openal --enable-opencl --enable-opengl --enable-sdl2 --enable-libdc1394 --enable-libdrm --enable-libiec61883 --enable-nvenc --enable-chromaprint --enable-frei0r --enable-libx264 --enable-shared\n",
      "  libavutil      56. 31.100 / 56. 31.100\n",
      "  libavcodec     58. 54.100 / 58. 54.100\n",
      "  libavformat    58. 29.100 / 58. 29.100\n",
      "  libavdevice    58.  8.100 / 58.  8.100\n",
      "  libavfilter     7. 57.100 /  7. 57.100\n",
      "  libavresample   4.  0.  0 /  4.  0.  0\n",
      "  libswscale      5.  5.100 /  5.  5.100\n",
      "  libswresample   3.  5.100 /  3.  5.100\n",
      "  libpostproc    55.  5.100 / 55.  5.100\n",
      "Guessed Channel Layout for Input Stream #0.0 : mono\n",
      "Input #0, wav, from './wav/20221231_143000.WAV':\n",
      "  Metadata:\n",
      "    comment         : Recorded at 14:30:00 31/12/2022 (UTC) by AudioMoth 24A04F085FDF2285 at medium gain setting while battery state was 4.0V and temperature was 13.9C.\n",
      "    artist          : AudioMoth 24A04F085FDF2285\n",
      "  Duration: 03:00:00.00, bitrate: 3072 kb/s\n",
      "    Stream #0:0: Audio: pcm_s16le ([1][0][0][0] / 0x0001), 192000 Hz, mono, s16, 3072 kb/s\n",
      "Stream mapping:\n",
      "  Stream #0:0 -> #0:0 (pcm_s16le (native) -> vorbis (libvorbis))\n",
      "Press [q] to stop, [?] for help\n",
      "Output #0, ogg, to './ogg/20221231_143000.ogg':\n",
      "  Metadata:\n",
      "    comment         : Recorded at 14:30:00 31/12/2022 (UTC) by AudioMoth 24A04F085FDF2285 at medium gain setting while battery state was 4.0V and temperature was 13.9C.\n",
      "    artist          : AudioMoth 24A04F085FDF2285\n",
      "    encoder         : Lavf58.29.100\n",
      "    Stream #0:0: Audio: vorbis (libvorbis), 32000 Hz, mono, fltp\n",
      "    Metadata:\n",
      "      encoder         : Lavc58.54.100 libvorbis\n",
      "      DESCRIPTION     : Recorded at 14:30:00 31/12/2022 (UTC) by AudioMoth 24A04F085FDF2285 at medium gain setting while battery state was 4.0V and temperature was 13.9C.\n",
      "      artist          : AudioMoth 24A04F085FDF2285\n"
     ]
    },
    {
     "name": "stdout",
     "output_type": "stream",
     "text": [
      "Finished processing:  20221231_060000.WAV\n",
      "Processing:  20221231_143000.WAV\n"
     ]
    },
    {
     "name": "stderr",
     "output_type": "stream",
     "text": [
      "size=   80061kB time=02:59:59.97 bitrate=  60.7kbits/s speed=59.8x    \n",
      "video:0kB audio:79440kB subtitle:0kB other streams:0kB global headers:3kB muxing overhead: 0.781962%\n",
      "ffmpeg version 4.2.7-0ubuntu0.1 Copyright (c) 2000-2022 the FFmpeg developers\n",
      "  built with gcc 9 (Ubuntu 9.4.0-1ubuntu1~20.04.1)\n",
      "  configuration: --prefix=/usr --extra-version=0ubuntu0.1 --toolchain=hardened --libdir=/usr/lib/x86_64-linux-gnu --incdir=/usr/include/x86_64-linux-gnu --arch=amd64 --enable-gpl --disable-stripping --enable-avresample --disable-filter=resample --enable-avisynth --enable-gnutls --enable-ladspa --enable-libaom --enable-libass --enable-libbluray --enable-libbs2b --enable-libcaca --enable-libcdio --enable-libcodec2 --enable-libflite --enable-libfontconfig --enable-libfreetype --enable-libfribidi --enable-libgme --enable-libgsm --enable-libjack --enable-libmp3lame --enable-libmysofa --enable-libopenjpeg --enable-libopenmpt --enable-libopus --enable-libpulse --enable-librsvg --enable-librubberband --enable-libshine --enable-libsnappy --enable-libsoxr --enable-libspeex --enable-libssh --enable-libtheora --enable-libtwolame --enable-libvidstab --enable-libvorbis --enable-libvpx --enable-libwavpack --enable-libwebp --enable-libx265 --enable-libxml2 --enable-libxvid --enable-libzmq --enable-libzvbi --enable-lv2 --enable-omx --enable-openal --enable-opencl --enable-opengl --enable-sdl2 --enable-libdc1394 --enable-libdrm --enable-libiec61883 --enable-nvenc --enable-chromaprint --enable-frei0r --enable-libx264 --enable-shared\n",
      "  libavutil      56. 31.100 / 56. 31.100\n",
      "  libavcodec     58. 54.100 / 58. 54.100\n",
      "  libavformat    58. 29.100 / 58. 29.100\n",
      "  libavdevice    58.  8.100 / 58.  8.100\n",
      "  libavfilter     7. 57.100 /  7. 57.100\n",
      "  libavresample   4.  0.  0 /  4.  0.  0\n",
      "  libswscale      5.  5.100 /  5.  5.100\n",
      "  libswresample   3.  5.100 /  3.  5.100\n",
      "  libpostproc    55.  5.100 / 55.  5.100\n",
      "Guessed Channel Layout for Input Stream #0.0 : mono\n",
      "Input #0, wav, from './wav/20221231_213000.WAV':\n",
      "  Metadata:\n",
      "    comment         : Recorded at 21:30:00 31/12/2022 (UTC) by AudioMoth 24A04F085FDF2285 at medium gain setting while battery state was 4.0V and temperature was 13.9C.\n",
      "    artist          : AudioMoth 24A04F085FDF2285\n",
      "  Duration: 02:30:00.00, bitrate: 3072 kb/s\n",
      "    Stream #0:0: Audio: pcm_s16le ([1][0][0][0] / 0x0001), 192000 Hz, mono, s16, 3072 kb/s\n",
      "Stream mapping:\n",
      "  Stream #0:0 -> #0:0 (pcm_s16le (native) -> vorbis (libvorbis))\n",
      "Press [q] to stop, [?] for help\n",
      "Output #0, ogg, to './ogg/20221231_213000.ogg':\n",
      "  Metadata:\n",
      "    comment         : Recorded at 21:30:00 31/12/2022 (UTC) by AudioMoth 24A04F085FDF2285 at medium gain setting while battery state was 4.0V and temperature was 13.9C.\n",
      "    artist          : AudioMoth 24A04F085FDF2285\n",
      "    encoder         : Lavf58.29.100\n",
      "    Stream #0:0: Audio: vorbis (libvorbis), 32000 Hz, mono, fltp\n",
      "    Metadata:\n",
      "      encoder         : Lavc58.54.100 libvorbis\n",
      "      DESCRIPTION     : Recorded at 21:30:00 31/12/2022 (UTC) by AudioMoth 24A04F085FDF2285 at medium gain setting while battery state was 4.0V and temperature was 13.9C.\n",
      "      artist          : AudioMoth 24A04F085FDF2285\n"
     ]
    },
    {
     "name": "stdout",
     "output_type": "stream",
     "text": [
      "Finished processing:  20221231_143000.WAV\n",
      "Processing:  20221231_213000.WAV\n"
     ]
    },
    {
     "name": "stderr",
     "output_type": "stream",
     "text": [
      "size=   68291kB time=02:29:59.98 bitrate=  62.2kbits/s speed=57.4x    \n",
      "video:0kB audio:67695kB subtitle:0kB other streams:0kB global headers:3kB muxing overhead: 0.881161%\n",
      "ffmpeg version 4.2.7-0ubuntu0.1 Copyright (c) 2000-2022 the FFmpeg developers\n",
      "  built with gcc 9 (Ubuntu 9.4.0-1ubuntu1~20.04.1)\n",
      "  configuration: --prefix=/usr --extra-version=0ubuntu0.1 --toolchain=hardened --libdir=/usr/lib/x86_64-linux-gnu --incdir=/usr/include/x86_64-linux-gnu --arch=amd64 --enable-gpl --disable-stripping --enable-avresample --disable-filter=resample --enable-avisynth --enable-gnutls --enable-ladspa --enable-libaom --enable-libass --enable-libbluray --enable-libbs2b --enable-libcaca --enable-libcdio --enable-libcodec2 --enable-libflite --enable-libfontconfig --enable-libfreetype --enable-libfribidi --enable-libgme --enable-libgsm --enable-libjack --enable-libmp3lame --enable-libmysofa --enable-libopenjpeg --enable-libopenmpt --enable-libopus --enable-libpulse --enable-librsvg --enable-librubberband --enable-libshine --enable-libsnappy --enable-libsoxr --enable-libspeex --enable-libssh --enable-libtheora --enable-libtwolame --enable-libvidstab --enable-libvorbis --enable-libvpx --enable-libwavpack --enable-libwebp --enable-libx265 --enable-libxml2 --enable-libxvid --enable-libzmq --enable-libzvbi --enable-lv2 --enable-omx --enable-openal --enable-opencl --enable-opengl --enable-sdl2 --enable-libdc1394 --enable-libdrm --enable-libiec61883 --enable-nvenc --enable-chromaprint --enable-frei0r --enable-libx264 --enable-shared\n",
      "  libavutil      56. 31.100 / 56. 31.100\n",
      "  libavcodec     58. 54.100 / 58. 54.100\n",
      "  libavformat    58. 29.100 / 58. 29.100\n",
      "  libavdevice    58.  8.100 / 58.  8.100\n",
      "  libavfilter     7. 57.100 /  7. 57.100\n",
      "  libavresample   4.  0.  0 /  4.  0.  0\n",
      "  libswscale      5.  5.100 /  5.  5.100\n",
      "  libswresample   3.  5.100 /  3.  5.100\n",
      "  libpostproc    55.  5.100 / 55.  5.100\n",
      "Guessed Channel Layout for Input Stream #0.0 : mono\n",
      "Input #0, wav, from './wav/20230101_000001.WAV':\n",
      "  Metadata:\n",
      "    comment         : Recorded at 00:00:01 01/01/2023 (UTC) by AudioMoth 24A04F085FDF2285 at medium gain setting while battery state was 3.9V and temperature was 16.4C.\n",
      "    artist          : AudioMoth 24A04F085FDF2285\n",
      "  Duration: 00:29:59.00, bitrate: 3072 kb/s\n",
      "    Stream #0:0: Audio: pcm_s16le ([1][0][0][0] / 0x0001), 192000 Hz, mono, s16, 3072 kb/s\n",
      "Stream mapping:\n",
      "  Stream #0:0 -> #0:0 (pcm_s16le (native) -> vorbis (libvorbis))\n",
      "Press [q] to stop, [?] for help\n",
      "Output #0, ogg, to './ogg/20230101_000001.ogg':\n",
      "  Metadata:\n",
      "    comment         : Recorded at 00:00:01 01/01/2023 (UTC) by AudioMoth 24A04F085FDF2285 at medium gain setting while battery state was 3.9V and temperature was 16.4C.\n",
      "    artist          : AudioMoth 24A04F085FDF2285\n",
      "    encoder         : Lavf58.29.100\n",
      "    Stream #0:0: Audio: vorbis (libvorbis), 32000 Hz, mono, fltp\n",
      "    Metadata:\n",
      "      encoder         : Lavc58.54.100 libvorbis\n",
      "      DESCRIPTION     : Recorded at 00:00:01 01/01/2023 (UTC) by AudioMoth 24A04F085FDF2285 at medium gain setting while battery state was 3.9V and temperature was 16.4C.\n",
      "      artist          : AudioMoth 24A04F085FDF2285\n"
     ]
    },
    {
     "name": "stdout",
     "output_type": "stream",
     "text": [
      "Finished processing:  20221231_213000.WAV\n",
      "Processing:  20230101_000001.WAV\n"
     ]
    },
    {
     "name": "stderr",
     "output_type": "stream",
     "text": [
      "size=   13377kB time=00:29:58.99 bitrate=  60.9kbits/s speed=60.7x    \n",
      "video:0kB audio:13268kB subtitle:0kB other streams:0kB global headers:3kB muxing overhead: 0.822267%\n",
      "ffmpeg version 4.2.7-0ubuntu0.1 Copyright (c) 2000-2022 the FFmpeg developers\n",
      "  built with gcc 9 (Ubuntu 9.4.0-1ubuntu1~20.04.1)\n",
      "  configuration: --prefix=/usr --extra-version=0ubuntu0.1 --toolchain=hardened --libdir=/usr/lib/x86_64-linux-gnu --incdir=/usr/include/x86_64-linux-gnu --arch=amd64 --enable-gpl --disable-stripping --enable-avresample --disable-filter=resample --enable-avisynth --enable-gnutls --enable-ladspa --enable-libaom --enable-libass --enable-libbluray --enable-libbs2b --enable-libcaca --enable-libcdio --enable-libcodec2 --enable-libflite --enable-libfontconfig --enable-libfreetype --enable-libfribidi --enable-libgme --enable-libgsm --enable-libjack --enable-libmp3lame --enable-libmysofa --enable-libopenjpeg --enable-libopenmpt --enable-libopus --enable-libpulse --enable-librsvg --enable-librubberband --enable-libshine --enable-libsnappy --enable-libsoxr --enable-libspeex --enable-libssh --enable-libtheora --enable-libtwolame --enable-libvidstab --enable-libvorbis --enable-libvpx --enable-libwavpack --enable-libwebp --enable-libx265 --enable-libxml2 --enable-libxvid --enable-libzmq --enable-libzvbi --enable-lv2 --enable-omx --enable-openal --enable-opencl --enable-opengl --enable-sdl2 --enable-libdc1394 --enable-libdrm --enable-libiec61883 --enable-nvenc --enable-chromaprint --enable-frei0r --enable-libx264 --enable-shared\n",
      "  libavutil      56. 31.100 / 56. 31.100\n",
      "  libavcodec     58. 54.100 / 58. 54.100\n",
      "  libavformat    58. 29.100 / 58. 29.100\n",
      "  libavdevice    58.  8.100 / 58.  8.100\n",
      "  libavfilter     7. 57.100 /  7. 57.100\n",
      "  libavresample   4.  0.  0 /  4.  0.  0\n",
      "  libswscale      5.  5.100 /  5.  5.100\n",
      "  libswresample   3.  5.100 /  3.  5.100\n",
      "  libpostproc    55.  5.100 / 55.  5.100\n",
      "Guessed Channel Layout for Input Stream #0.0 : mono\n",
      "Input #0, wav, from './wav/20230101_060000.WAV':\n",
      "  Metadata:\n",
      "    comment         : Recorded at 06:00:00 01/01/2023 (UTC) by AudioMoth 24A04F085FDF2285 at medium gain setting while battery state was 4.0V and temperature was 13.1C.\n",
      "    artist          : AudioMoth 24A04F085FDF2285\n",
      "  Duration: 03:00:00.00, bitrate: 3072 kb/s\n",
      "    Stream #0:0: Audio: pcm_s16le ([1][0][0][0] / 0x0001), 192000 Hz, mono, s16, 3072 kb/s\n",
      "Stream mapping:\n",
      "  Stream #0:0 -> #0:0 (pcm_s16le (native) -> vorbis (libvorbis))\n",
      "Press [q] to stop, [?] for help\n",
      "Output #0, ogg, to './ogg/20230101_060000.ogg':\n",
      "  Metadata:\n",
      "    comment         : Recorded at 06:00:00 01/01/2023 (UTC) by AudioMoth 24A04F085FDF2285 at medium gain setting while battery state was 4.0V and temperature was 13.1C.\n",
      "    artist          : AudioMoth 24A04F085FDF2285\n",
      "    encoder         : Lavf58.29.100\n",
      "    Stream #0:0: Audio: vorbis (libvorbis), 32000 Hz, mono, fltp\n",
      "    Metadata:\n",
      "      encoder         : Lavc58.54.100 libvorbis\n",
      "      DESCRIPTION     : Recorded at 06:00:00 01/01/2023 (UTC) by AudioMoth 24A04F085FDF2285 at medium gain setting while battery state was 4.0V and temperature was 13.1C.\n",
      "      artist          : AudioMoth 24A04F085FDF2285\n"
     ]
    },
    {
     "name": "stdout",
     "output_type": "stream",
     "text": [
      "Finished processing:  20230101_000001.WAV\n",
      "Processing:  20230101_060000.WAV\n"
     ]
    },
    {
     "name": "stderr",
     "output_type": "stream",
     "text": [
      "size=   82203kB time=02:59:59.98 bitrate=  62.4kbits/s speed=61.5x    \n",
      "video:0kB audio:81468kB subtitle:0kB other streams:0kB global headers:3kB muxing overhead: 0.901954%\n",
      "ffmpeg version 4.2.7-0ubuntu0.1 Copyright (c) 2000-2022 the FFmpeg developers\n",
      "  built with gcc 9 (Ubuntu 9.4.0-1ubuntu1~20.04.1)\n",
      "  configuration: --prefix=/usr --extra-version=0ubuntu0.1 --toolchain=hardened --libdir=/usr/lib/x86_64-linux-gnu --incdir=/usr/include/x86_64-linux-gnu --arch=amd64 --enable-gpl --disable-stripping --enable-avresample --disable-filter=resample --enable-avisynth --enable-gnutls --enable-ladspa --enable-libaom --enable-libass --enable-libbluray --enable-libbs2b --enable-libcaca --enable-libcdio --enable-libcodec2 --enable-libflite --enable-libfontconfig --enable-libfreetype --enable-libfribidi --enable-libgme --enable-libgsm --enable-libjack --enable-libmp3lame --enable-libmysofa --enable-libopenjpeg --enable-libopenmpt --enable-libopus --enable-libpulse --enable-librsvg --enable-librubberband --enable-libshine --enable-libsnappy --enable-libsoxr --enable-libspeex --enable-libssh --enable-libtheora --enable-libtwolame --enable-libvidstab --enable-libvorbis --enable-libvpx --enable-libwavpack --enable-libwebp --enable-libx265 --enable-libxml2 --enable-libxvid --enable-libzmq --enable-libzvbi --enable-lv2 --enable-omx --enable-openal --enable-opencl --enable-opengl --enable-sdl2 --enable-libdc1394 --enable-libdrm --enable-libiec61883 --enable-nvenc --enable-chromaprint --enable-frei0r --enable-libx264 --enable-shared\n",
      "  libavutil      56. 31.100 / 56. 31.100\n",
      "  libavcodec     58. 54.100 / 58. 54.100\n",
      "  libavformat    58. 29.100 / 58. 29.100\n",
      "  libavdevice    58.  8.100 / 58.  8.100\n",
      "  libavfilter     7. 57.100 /  7. 57.100\n",
      "  libavresample   4.  0.  0 /  4.  0.  0\n",
      "  libswscale      5.  5.100 /  5.  5.100\n",
      "  libswresample   3.  5.100 /  3.  5.100\n",
      "  libpostproc    55.  5.100 / 55.  5.100\n",
      "Guessed Channel Layout for Input Stream #0.0 : mono\n",
      "Input #0, wav, from './wav/20230101_143000.WAV':\n",
      "  Metadata:\n",
      "    comment         : Recorded at 14:30:00 01/01/2023 (UTC) by AudioMoth 24A04F085FDF2285 at medium gain setting while battery state was 4.0V and temperature was 12.3C.\n",
      "    artist          : AudioMoth 24A04F085FDF2285\n",
      "  Duration: 03:00:00.00, bitrate: 3072 kb/s\n",
      "    Stream #0:0: Audio: pcm_s16le ([1][0][0][0] / 0x0001), 192000 Hz, mono, s16, 3072 kb/s\n",
      "Stream mapping:\n",
      "  Stream #0:0 -> #0:0 (pcm_s16le (native) -> vorbis (libvorbis))\n",
      "Press [q] to stop, [?] for help\n",
      "Output #0, ogg, to './ogg/20230101_143000.ogg':\n",
      "  Metadata:\n",
      "    comment         : Recorded at 14:30:00 01/01/2023 (UTC) by AudioMoth 24A04F085FDF2285 at medium gain setting while battery state was 4.0V and temperature was 12.3C.\n",
      "    artist          : AudioMoth 24A04F085FDF2285\n",
      "    encoder         : Lavf58.29.100\n",
      "    Stream #0:0: Audio: vorbis (libvorbis), 32000 Hz, mono, fltp\n",
      "    Metadata:\n",
      "      encoder         : Lavc58.54.100 libvorbis\n",
      "      DESCRIPTION     : Recorded at 14:30:00 01/01/2023 (UTC) by AudioMoth 24A04F085FDF2285 at medium gain setting while battery state was 4.0V and temperature was 12.3C.\n",
      "      artist          : AudioMoth 24A04F085FDF2285\n"
     ]
    },
    {
     "name": "stdout",
     "output_type": "stream",
     "text": [
      "Finished processing:  20230101_060000.WAV\n",
      "Processing:  20230101_143000.WAV\n"
     ]
    },
    {
     "name": "stderr",
     "output_type": "stream",
     "text": [
      "size=   81150kB time=02:59:59.98 bitrate=  61.6kbits/s speed=74.2x    \n",
      "video:0kB audio:80477kB subtitle:0kB other streams:0kB global headers:3kB muxing overhead: 0.836101%\n",
      "ffmpeg version 4.2.7-0ubuntu0.1 Copyright (c) 2000-2022 the FFmpeg developers\n",
      "  built with gcc 9 (Ubuntu 9.4.0-1ubuntu1~20.04.1)\n",
      "  configuration: --prefix=/usr --extra-version=0ubuntu0.1 --toolchain=hardened --libdir=/usr/lib/x86_64-linux-gnu --incdir=/usr/include/x86_64-linux-gnu --arch=amd64 --enable-gpl --disable-stripping --enable-avresample --disable-filter=resample --enable-avisynth --enable-gnutls --enable-ladspa --enable-libaom --enable-libass --enable-libbluray --enable-libbs2b --enable-libcaca --enable-libcdio --enable-libcodec2 --enable-libflite --enable-libfontconfig --enable-libfreetype --enable-libfribidi --enable-libgme --enable-libgsm --enable-libjack --enable-libmp3lame --enable-libmysofa --enable-libopenjpeg --enable-libopenmpt --enable-libopus --enable-libpulse --enable-librsvg --enable-librubberband --enable-libshine --enable-libsnappy --enable-libsoxr --enable-libspeex --enable-libssh --enable-libtheora --enable-libtwolame --enable-libvidstab --enable-libvorbis --enable-libvpx --enable-libwavpack --enable-libwebp --enable-libx265 --enable-libxml2 --enable-libxvid --enable-libzmq --enable-libzvbi --enable-lv2 --enable-omx --enable-openal --enable-opencl --enable-opengl --enable-sdl2 --enable-libdc1394 --enable-libdrm --enable-libiec61883 --enable-nvenc --enable-chromaprint --enable-frei0r --enable-libx264 --enable-shared\n",
      "  libavutil      56. 31.100 / 56. 31.100\n",
      "  libavcodec     58. 54.100 / 58. 54.100\n",
      "  libavformat    58. 29.100 / 58. 29.100\n",
      "  libavdevice    58.  8.100 / 58.  8.100\n",
      "  libavfilter     7. 57.100 /  7. 57.100\n",
      "  libavresample   4.  0.  0 /  4.  0.  0\n",
      "  libswscale      5.  5.100 /  5.  5.100\n",
      "  libswresample   3.  5.100 /  3.  5.100\n",
      "  libpostproc    55.  5.100 / 55.  5.100\n",
      "Guessed Channel Layout for Input Stream #0.0 : mono\n",
      "Input #0, wav, from './wav/20230101_213000.WAV':\n",
      "  Metadata:\n",
      "    comment         : Recorded at 21:30:00 01/01/2023 (UTC) by AudioMoth 24A04F085FDF2285 at medium gain setting while battery state was 4.0V and temperature was 9.9C.\n",
      "    artist          : AudioMoth 24A04F085FDF2285\n",
      "  Duration: 02:30:00.00, bitrate: 3072 kb/s\n",
      "    Stream #0:0: Audio: pcm_s16le ([1][0][0][0] / 0x0001), 192000 Hz, mono, s16, 3072 kb/s\n",
      "Stream mapping:\n",
      "  Stream #0:0 -> #0:0 (pcm_s16le (native) -> vorbis (libvorbis))\n",
      "Press [q] to stop, [?] for help\n",
      "Output #0, ogg, to './ogg/20230101_213000.ogg':\n",
      "  Metadata:\n",
      "    comment         : Recorded at 21:30:00 01/01/2023 (UTC) by AudioMoth 24A04F085FDF2285 at medium gain setting while battery state was 4.0V and temperature was 9.9C.\n",
      "    artist          : AudioMoth 24A04F085FDF2285\n",
      "    encoder         : Lavf58.29.100\n",
      "    Stream #0:0: Audio: vorbis (libvorbis), 32000 Hz, mono, fltp\n",
      "    Metadata:\n",
      "      encoder         : Lavc58.54.100 libvorbis\n",
      "      DESCRIPTION     : Recorded at 21:30:00 01/01/2023 (UTC) by AudioMoth 24A04F085FDF2285 at medium gain setting while battery state was 4.0V and temperature was 9.9C.\n",
      "      artist          : AudioMoth 24A04F085FDF2285\n"
     ]
    },
    {
     "name": "stdout",
     "output_type": "stream",
     "text": [
      "Finished processing:  20230101_143000.WAV\n",
      "Processing:  20230101_213000.WAV\n"
     ]
    },
    {
     "name": "stderr",
     "output_type": "stream",
     "text": [
      "size=   71353kB time=02:29:13.86 bitrate=  65.3kbits/s speed=94.9x    \r"
     ]
    },
    {
     "name": "stdout",
     "output_type": "stream",
     "text": [
      "Finished processing:  20230101_213000.WAV\n"
     ]
    },
    {
     "name": "stderr",
     "output_type": "stream",
     "text": [
      "size=   71704kB time=02:30:00.00 bitrate=  65.3kbits/s speed=  95x    \n",
      "video:0kB audio:70923kB subtitle:0kB other streams:0kB global headers:3kB muxing overhead: 1.100772%\n"
     ]
    }
   ],
   "source": [
    "for file_name in audio_recordings_todo:\n",
    "    if file_name.endswith(\".WAV\"):\n",
    "        input_file_path = os.path.join(input_folder, file_name)\n",
    "        output_file_path = os.path.join(output_folder, f\"{os.path.splitext(file_name)[0]}.ogg\")\n",
    "        process = subprocess.Popen([\"ffmpeg\", \"-i\", input_file_path, \"-acodec\", \"libvorbis\", \"-ar\", \"32k\", output_file_path], cwd=root_folder)\n",
    "        print('Processing: ', file_name)\n",
    "        process.wait()\n",
    "        print('Finished processing: ', file_name)"
   ]
  },
  {
   "cell_type": "code",
   "execution_count": null,
   "id": "30205602-7da8-4f80-ad6b-2d4a96d90674",
   "metadata": {},
   "outputs": [],
   "source": []
  }
 ],
 "metadata": {
  "kernelspec": {
   "display_name": "Python 3 (ipykernel)",
   "language": "python",
   "name": "python3"
  },
  "language_info": {
   "codemirror_mode": {
    "name": "ipython",
    "version": 3
   },
   "file_extension": ".py",
   "mimetype": "text/x-python",
   "name": "python",
   "nbconvert_exporter": "python",
   "pygments_lexer": "ipython3",
   "version": "3.10.9"
  }
 },
 "nbformat": 4,
 "nbformat_minor": 5
}
