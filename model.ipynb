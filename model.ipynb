{
 "cells": [
  {
   "cell_type": "markdown",
   "id": "abe6c033-3ca0-4b48-83c8-7a921464ae1a",
   "metadata": {},
   "source": [
    "# Three bird classifier attempt\n",
    "This file contains a first attempt of training a three bird classifier"
   ]
  },
  {
   "cell_type": "code",
   "execution_count": 1,
   "id": "ca15ff3c-2fed-483d-b12c-644ee4bd9533",
   "metadata": {
    "tags": []
   },
   "outputs": [
    {
     "name": "stderr",
     "output_type": "stream",
     "text": [
      "/opt/homebrew/lib/python3.11/site-packages/tqdm/auto.py:21: TqdmWarning: IProgress not found. Please update jupyter and ipywidgets. See https://ipywidgets.readthedocs.io/en/stable/user_install.html\n",
      "  from .autonotebook import tqdm as notebook_tqdm\n"
     ]
    }
   ],
   "source": [
    "# Deep Learning framework\n",
    "import torch\n",
    "import torch.nn as nn\n",
    "import torch.optim as optim\n",
    "import torch.nn.functional as F\n",
    "from torch.optim import lr_scheduler\n",
    "from torch.utils.data import Dataset, DataLoader, random_split\n",
    "\n",
    "# Audio processing\n",
    "import torchaudio\n",
    "import torchaudio.transforms as T\n",
    "import librosa\n",
    "\n",
    "# Pre-trained image models\n",
    "import timm\n",
    "\n",
    "# Others\n",
    "import os\n",
    "import pandas as pd\n",
    "import matplotlib.pyplot as plt"
   ]
  },
  {
   "cell_type": "code",
   "execution_count": 2,
   "id": "3dcfeec6-6956-47d8-9d7e-9b2d1427e6bb",
   "metadata": {},
   "outputs": [
    {
     "name": "stdout",
     "output_type": "stream",
     "text": [
      "True\n",
      "True\n"
     ]
    }
   ],
   "source": [
    "# this ensures that the current MacOS version is at least 12.3+\n",
    "print(torch.backends.mps.is_available())\n",
    "# this ensures that the current current PyTorch installation was built with MPS activated.\n",
    "print(torch.backends.mps.is_built())"
   ]
  },
  {
   "cell_type": "code",
   "execution_count": 14,
   "id": "9868ac3c-2716-4402-8049-a8ce7d81a62a",
   "metadata": {
    "tags": []
   },
   "outputs": [],
   "source": [
    "root_dir = 'data/audio/'\n",
    "class_names = ['galerida_cristata', 'picus_viridis', 'phasianus_colchicus']\n",
    "files_df = pd.DataFrame(columns=['file_path', 'target'])"
   ]
  },
  {
   "cell_type": "code",
   "execution_count": 15,
   "id": "e946df4f-7ade-420f-9eb5-31da355f545d",
   "metadata": {
    "tags": []
   },
   "outputs": [],
   "source": [
    "for class_name in class_names:\n",
    "    files_path = os.path.join(root_dir, class_name)\n",
    "    file_paths = [os.path.join(files_path, file) for file in os.listdir(files_path)]\n",
    "    \n",
    "    df = pd.DataFrame(file_paths, columns=['file_path'])\n",
    "    df['target'] = class_name\n",
    "    \n",
    "    files_df = pd.concat([files_df, df], ignore_index=True)"
   ]
  },
  {
   "cell_type": "code",
   "execution_count": 16,
   "id": "3ba7c041-a420-4779-bd4f-4655eb14960a",
   "metadata": {
    "tags": []
   },
   "outputs": [
    {
     "data": {
      "text/html": [
       "<div>\n",
       "<style scoped>\n",
       "    .dataframe tbody tr th:only-of-type {\n",
       "        vertical-align: middle;\n",
       "    }\n",
       "\n",
       "    .dataframe tbody tr th {\n",
       "        vertical-align: top;\n",
       "    }\n",
       "\n",
       "    .dataframe thead th {\n",
       "        text-align: right;\n",
       "    }\n",
       "</style>\n",
       "<table border=\"1\" class=\"dataframe\">\n",
       "  <thead>\n",
       "    <tr style=\"text-align: right;\">\n",
       "      <th></th>\n",
       "      <th>file_path</th>\n",
       "      <th>target</th>\n",
       "    </tr>\n",
       "  </thead>\n",
       "  <tbody>\n",
       "    <tr>\n",
       "      <th>0</th>\n",
       "      <td>data/audio/galerida_cristata/XC676678 - Creste...</td>\n",
       "      <td>galerida_cristata</td>\n",
       "    </tr>\n",
       "    <tr>\n",
       "      <th>1</th>\n",
       "      <td>data/audio/galerida_cristata/XC643767 - Creste...</td>\n",
       "      <td>galerida_cristata</td>\n",
       "    </tr>\n",
       "    <tr>\n",
       "      <th>2</th>\n",
       "      <td>data/audio/galerida_cristata/XC781592 - Creste...</td>\n",
       "      <td>galerida_cristata</td>\n",
       "    </tr>\n",
       "    <tr>\n",
       "      <th>3</th>\n",
       "      <td>data/audio/galerida_cristata/XC343817 - Creste...</td>\n",
       "      <td>galerida_cristata</td>\n",
       "    </tr>\n",
       "    <tr>\n",
       "      <th>4</th>\n",
       "      <td>data/audio/galerida_cristata/XC397203 - Creste...</td>\n",
       "      <td>galerida_cristata</td>\n",
       "    </tr>\n",
       "    <tr>\n",
       "      <th>...</th>\n",
       "      <td>...</td>\n",
       "      <td>...</td>\n",
       "    </tr>\n",
       "    <tr>\n",
       "      <th>457</th>\n",
       "      <td>data/audio/phasianus_colchicus/XC685640 - Comm...</td>\n",
       "      <td>phasianus_colchicus</td>\n",
       "    </tr>\n",
       "    <tr>\n",
       "      <th>458</th>\n",
       "      <td>data/audio/phasianus_colchicus/XC509327 - Comm...</td>\n",
       "      <td>phasianus_colchicus</td>\n",
       "    </tr>\n",
       "    <tr>\n",
       "      <th>459</th>\n",
       "      <td>data/audio/phasianus_colchicus/XC706417 - Comm...</td>\n",
       "      <td>phasianus_colchicus</td>\n",
       "    </tr>\n",
       "    <tr>\n",
       "      <th>460</th>\n",
       "      <td>data/audio/phasianus_colchicus/XC441882 - Comm...</td>\n",
       "      <td>phasianus_colchicus</td>\n",
       "    </tr>\n",
       "    <tr>\n",
       "      <th>461</th>\n",
       "      <td>data/audio/phasianus_colchicus/XC153127 - Comm...</td>\n",
       "      <td>phasianus_colchicus</td>\n",
       "    </tr>\n",
       "  </tbody>\n",
       "</table>\n",
       "<p>462 rows × 2 columns</p>\n",
       "</div>"
      ],
      "text/plain": [
       "                                             file_path               target\n",
       "0    data/audio/galerida_cristata/XC676678 - Creste...    galerida_cristata\n",
       "1    data/audio/galerida_cristata/XC643767 - Creste...    galerida_cristata\n",
       "2    data/audio/galerida_cristata/XC781592 - Creste...    galerida_cristata\n",
       "3    data/audio/galerida_cristata/XC343817 - Creste...    galerida_cristata\n",
       "4    data/audio/galerida_cristata/XC397203 - Creste...    galerida_cristata\n",
       "..                                                 ...                  ...\n",
       "457  data/audio/phasianus_colchicus/XC685640 - Comm...  phasianus_colchicus\n",
       "458  data/audio/phasianus_colchicus/XC509327 - Comm...  phasianus_colchicus\n",
       "459  data/audio/phasianus_colchicus/XC706417 - Comm...  phasianus_colchicus\n",
       "460  data/audio/phasianus_colchicus/XC441882 - Comm...  phasianus_colchicus\n",
       "461  data/audio/phasianus_colchicus/XC153127 - Comm...  phasianus_colchicus\n",
       "\n",
       "[462 rows x 2 columns]"
      ]
     },
     "execution_count": 16,
     "metadata": {},
     "output_type": "execute_result"
    }
   ],
   "source": [
    "files_df"
   ]
  },
  {
   "cell_type": "code",
   "execution_count": 5,
   "id": "4f646cdf-ee29-42a1-a70a-b1a14a16ccde",
   "metadata": {
    "tags": []
   },
   "outputs": [
    {
     "name": "stdout",
     "output_type": "stream",
     "text": [
      "(160000,)\n"
     ]
    }
   ],
   "source": [
    "# PATH = \"data/audio/picus_viridis/XC541541 - European Green Woodpecker - Picus viridis.mp3\"\n",
    "\n",
    "PATH = \"data/recordings/ogg_files/1_041_209/20230107_213000.ogg\"\n",
    "\n",
    "# Load a sample audio file with librosa\n",
    "original_audio, sample_rate = librosa.load(PATH, sr=None, offset=(41*60)+25, duration=5)\n",
    "\n",
    "print(original_audio.shape)\n",
    "\n",
    "audio = torch.tensor(original_audio)\n",
    "\n",
    "if sample_rate != 32000:\n",
    "    resample = T.Resample(sample_rate, 32000)\n",
    "    audio = resample(audio)\n",
    "\n",
    "melspectrogram = T.MelSpectrogram(sample_rate = 32000, \n",
    "                                        n_mels = 64, \n",
    "                                        n_fft = 2048, \n",
    "                                        hop_length = 512)\n",
    "melspec = melspectrogram(audio)\n",
    "\n",
    "melspec_stack = torch.stack([melspec])"
   ]
  },
  {
   "cell_type": "code",
   "execution_count": 40,
   "id": "5fbe1d8d-e489-450b-83b5-2c192a6d8a3e",
   "metadata": {
    "tags": []
   },
   "outputs": [
    {
     "ename": "RuntimeError",
     "evalue": "Failed to load audio from data/audio/picus_viridis/XC541541 - European Green Woodpecker - Picus viridis.mp3",
     "output_type": "error",
     "traceback": [
      "\u001b[0;31m---------------------------------------------------------------------------\u001b[0m",
      "\u001b[0;31mRuntimeError\u001b[0m                              Traceback (most recent call last)",
      "Cell \u001b[0;32mIn[40], line 2\u001b[0m\n\u001b[1;32m      1\u001b[0m \u001b[38;5;66;03m# Load a sample audio file with torchaudio\u001b[39;00m\n\u001b[0;32m----> 2\u001b[0m original_audio, sample_rate \u001b[38;5;241m=\u001b[39m \u001b[43mtorchaudio\u001b[49m\u001b[38;5;241;43m.\u001b[39;49m\u001b[43mload\u001b[49m\u001b[43m(\u001b[49m\u001b[43mPATH\u001b[49m\u001b[43m,\u001b[49m\u001b[43m \u001b[49m\u001b[38;5;28;43mformat\u001b[39;49m\u001b[38;5;241;43m=\u001b[39;49m\u001b[38;5;124;43m\"\u001b[39;49m\u001b[38;5;124;43mMP3\u001b[39;49m\u001b[38;5;124;43m\"\u001b[39;49m\u001b[43m)\u001b[49m\n",
      "File \u001b[0;32m/opt/homebrew/lib/python3.11/site-packages/torchaudio/backend/sox_io_backend.py:256\u001b[0m, in \u001b[0;36mload\u001b[0;34m(filepath, frame_offset, num_frames, normalize, channels_first, format)\u001b[0m\n\u001b[1;32m    254\u001b[0m \u001b[38;5;28;01mif\u001b[39;00m ret \u001b[38;5;129;01mis\u001b[39;00m \u001b[38;5;129;01mnot\u001b[39;00m \u001b[38;5;28;01mNone\u001b[39;00m:\n\u001b[1;32m    255\u001b[0m     \u001b[38;5;28;01mreturn\u001b[39;00m ret\n\u001b[0;32m--> 256\u001b[0m \u001b[38;5;28;01mreturn\u001b[39;00m \u001b[43m_fallback_load\u001b[49m\u001b[43m(\u001b[49m\u001b[43mfilepath\u001b[49m\u001b[43m,\u001b[49m\u001b[43m \u001b[49m\u001b[43mframe_offset\u001b[49m\u001b[43m,\u001b[49m\u001b[43m \u001b[49m\u001b[43mnum_frames\u001b[49m\u001b[43m,\u001b[49m\u001b[43m \u001b[49m\u001b[43mnormalize\u001b[49m\u001b[43m,\u001b[49m\u001b[43m \u001b[49m\u001b[43mchannels_first\u001b[49m\u001b[43m,\u001b[49m\u001b[43m \u001b[49m\u001b[38;5;28;43mformat\u001b[39;49m\u001b[43m)\u001b[49m\n",
      "File \u001b[0;32m/opt/homebrew/lib/python3.11/site-packages/torchaudio/backend/sox_io_backend.py:30\u001b[0m, in \u001b[0;36m_fail_load\u001b[0;34m(filepath, frame_offset, num_frames, normalize, channels_first, format)\u001b[0m\n\u001b[1;32m     22\u001b[0m \u001b[38;5;28;01mdef\u001b[39;00m \u001b[38;5;21m_fail_load\u001b[39m(\n\u001b[1;32m     23\u001b[0m     filepath: \u001b[38;5;28mstr\u001b[39m,\n\u001b[1;32m     24\u001b[0m     frame_offset: \u001b[38;5;28mint\u001b[39m \u001b[38;5;241m=\u001b[39m \u001b[38;5;241m0\u001b[39m,\n\u001b[0;32m   (...)\u001b[0m\n\u001b[1;32m     28\u001b[0m     \u001b[38;5;28mformat\u001b[39m: Optional[\u001b[38;5;28mstr\u001b[39m] \u001b[38;5;241m=\u001b[39m \u001b[38;5;28;01mNone\u001b[39;00m,\n\u001b[1;32m     29\u001b[0m ) \u001b[38;5;241m-\u001b[39m\u001b[38;5;241m>\u001b[39m Tuple[torch\u001b[38;5;241m.\u001b[39mTensor, \u001b[38;5;28mint\u001b[39m]:\n\u001b[0;32m---> 30\u001b[0m     \u001b[38;5;28;01mraise\u001b[39;00m \u001b[38;5;167;01mRuntimeError\u001b[39;00m(\u001b[38;5;124m\"\u001b[39m\u001b[38;5;124mFailed to load audio from \u001b[39m\u001b[38;5;132;01m{}\u001b[39;00m\u001b[38;5;124m\"\u001b[39m\u001b[38;5;241m.\u001b[39mformat(filepath))\n",
      "\u001b[0;31mRuntimeError\u001b[0m: Failed to load audio from data/audio/picus_viridis/XC541541 - European Green Woodpecker - Picus viridis.mp3"
     ]
    }
   ],
   "source": [
    "# Load a sample audio file with torchaudio\n",
    "original_audio, sample_rate = torchaudio.load(PATH, format=\"MP3\")"
   ]
  },
  {
   "cell_type": "code",
   "execution_count": 6,
   "id": "63f5b919-7d01-4db6-95b1-85fcb4e65f9c",
   "metadata": {
    "tags": []
   },
   "outputs": [
    {
     "data": {
      "text/plain": [
       "<matplotlib.image.AxesImage at 0x10464da10>"
      ]
     },
     "execution_count": 6,
     "metadata": {},
     "output_type": "execute_result"
    },
    {
     "data": {
      "image/png": "[encoded data removed]",
      "text/plain": [
       "<Figure size 640x480 with 1 Axes>"
      ]
     },
     "metadata": {},
     "output_type": "display_data"
    }
   ],
   "source": [
    "plt.figure()\n",
    "plt.imshow(melspec_stack.log2()[0,:,:].numpy(), cmap='gray')"
   ]
  },
  {
   "cell_type": "code",
   "execution_count": 27,
   "id": "d1271265-4601-4313-83b3-382f913393b2",
   "metadata": {
    "tags": []
   },
   "outputs": [],
   "source": [
    "class AudioDataset(Dataset):\n",
    "    def __init__(self, \n",
    "                df, \n",
    "                target_sample_rate=32000, \n",
    "                audio_length=5,\n",
    "                wave_transforms=None,\n",
    "                spec_transforms=None):\n",
    "        self.df = df\n",
    "        self.file_paths = df['file_path'].values\n",
    "        self.labels = df['target'].values\n",
    "        self.target_sample_rate = target_sample_rate\n",
    "        self.num_samples = target_sample_rate * audio_length\n",
    "        self.wave_transforms = wave_transforms\n",
    "        self.spec_transforms = spec_transforms\n",
    "        \n",
    "    def __len__(self):\n",
    "        return len(self.df)\n",
    "    \n",
    "    def __getitem__(self, index):\n",
    "\n",
    "        # Load audio from file to waveform\n",
    "        # audio, sample_rate = torchaudio.load(self.file_paths[index])\n",
    "        \n",
    "        # Limit the audio duration to 5 seconds for now. We want to cut larger files into 5 seconds\n",
    "        # segments and use them all in a later version\n",
    "        audio, sample_rate = librosa.load(self.file_paths[index], sr=None, duration=audio_length)\n",
    "        \n",
    "        audio = torch.tensor(audio)\n",
    "\n",
    "        # Convert to mono\n",
    "        # audio = torch.mean(audio, axis=0)\n",
    "\n",
    "        # Resample\n",
    "        if sample_rate != self.target_sample_rate:\n",
    "            resample = T.Resample(sample_rate, self.target_sample_rate)\n",
    "            audio = resample(audio)\n",
    "        \n",
    "        # Adjust number of samples\n",
    "        if audio.shape[0] > self.num_samples:\n",
    "            # Crop\n",
    "            audio = audio[:self.num_samples]\n",
    "        elif audio.shape[0] < self.num_samples:\n",
    "            # Pad\n",
    "            audio = F.pad(audio, (0, self.num_samples - audio.shape[0]))\n",
    "\n",
    "\n",
    "        # Add any preprocessing you like here \n",
    "        # (e.g., converting to mono, resampling, adjusting size, noise removal, etc.)\n",
    "        \n",
    "        # Add any data augmentations for waveform you like here\n",
    "        # (e.g., noise injection, shifting time, changing speed and pitch)\n",
    "        wave_transforms = T.PitchShift(sample_rate, 4)\n",
    "        audio = wave_transforms(audio)\n",
    "\n",
    "        # Convert to Mel spectrogram\n",
    "        melspectrogram = T.MelSpectrogram(sample_rate = self.target_sample_rate, \n",
    "                                        n_mels = 128, \n",
    "                                        n_fft = 2048, \n",
    "                                        hop_length = 512)\n",
    "        melspec = melspectrogram(audio)\n",
    "        \n",
    "        # Add any data augmentations for spectrogram you like here\n",
    "        # (e.g., Mixup, cutmix, time masking, frequency masking)\n",
    "        spec_transforms = T.FrequencyMasking(freq_mask_param=80)\n",
    "        melspec = spec_transforms(melspec)\n",
    "        \n",
    "        return {\"image\": torch.stack([melspec]), \n",
    "                \"label\": torch.tensor(self.labels[index]).float()}"
   ]
  },
  {
   "cell_type": "code",
   "execution_count": 18,
   "id": "3462cc99-25a1-4e30-850f-4601528ec13f",
   "metadata": {},
   "outputs": [],
   "source": [
    "class AudioModel(nn.Module):\n",
    "    def __init__(self, \n",
    "                model_name = 'tf_efficientnet_b3_ns',\n",
    "                pretrained = True, \n",
    "                num_classes = None):\n",
    "        super(AudioModel, self).__init__()\n",
    "\n",
    "        self.model = timm.create_model(model_name, \n",
    "                                       pretrained = pretrained, \n",
    "                                       in_chans = 1)\n",
    "        self.in_features = self.model.classifier.in_features\n",
    "        self.model.classifier = nn.Sequential(\n",
    "              nn.Linear(self.in_features, num_classes)\n",
    "          )\n",
    "\n",
    "    def forward(self, images):\n",
    "        logits = self.model(images)\n",
    "        return logits"
   ]
  },
  {
   "cell_type": "code",
   "execution_count": 26,
   "id": "f446882d-5221-487e-b0b7-9f10a16d1d05",
   "metadata": {},
   "outputs": [],
   "source": [
    "dataset = AudioDataset(files_df)\n",
    "training_data, test_data = random_split(dataset, [0.7, 0.3])\n",
    "\n",
    "train_dataloader = DataLoader(training_data, batch_size=64, shuffle=True)\n",
    "test_dataloader = DataLoader(test_data, batch_size=64, shuffle=True)"
   ]
  },
  {
   "cell_type": "code",
   "execution_count": null,
   "id": "b1223d22-a548-4d4d-9995-1d0de7039b64",
   "metadata": {},
   "outputs": [],
   "source": []
  }
 ],
 "metadata": {
  "kernelspec": {
   "display_name": "Python 3 (ipykernel)",
   "language": "python",
   "name": "python3"
  },
  "language_info": {
   "codemirror_mode": {
    "name": "ipython",
    "version": 3
   },
   "file_extension": ".py",
   "mimetype": "text/x-python",
   "name": "python",
   "nbconvert_exporter": "python",
   "pygments_lexer": "ipython3",
   "version": "3.10.9"
  }
 },
 "nbformat": 4,
 "nbformat_minor": 5
}
