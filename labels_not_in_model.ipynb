{
 "cells": [
  {
   "cell_type": "markdown",
   "id": "36c57972-4b2b-4fdf-817b-80c6a2a69543",
   "metadata": {},
   "source": [
    "# Labels not in Google model\n",
    "This script fetches the bird species that do occur in the Edese bos area but are not covered by the Google model."
   ]
  },
  {
   "cell_type": "code",
   "execution_count": 2,
   "id": "0aa60c70-df50-4e13-8083-446a253b3e31",
   "metadata": {},
   "outputs": [],
   "source": [
    "import pandas\n",
    "import duckdb\n",
    "import csv"
   ]
  },
  {
   "cell_type": "code",
   "execution_count": 2,
   "id": "61227201-62b2-4c9f-a3d9-ea2617a97614",
   "metadata": {},
   "outputs": [],
   "source": [
    "# Connect to Duck DB database file\n",
    "con = duckdb.connect('data/db/collection.duckdb')"
   ]
  },
  {
   "cell_type": "code",
   "execution_count": 11,
   "id": "53d9815b-5666-4918-a36b-1b92a1ad497e",
   "metadata": {},
   "outputs": [],
   "source": [
    "df = con.sql('''\n",
    "    SELECT DISTINCT\n",
    "        ebird_code_def\n",
    "    FROM\n",
    "        bird_observations_ede_sc\n",
    "''').df()"
   ]
  },
  {
   "cell_type": "code",
   "execution_count": 22,
   "id": "07e66d5e-d8ec-4224-ba4c-19e8d1ab9b67",
   "metadata": {},
   "outputs": [],
   "source": [
    "classes_ede = list(df['ebird_code_def'])"
   ]
  },
  {
   "cell_type": "code",
   "execution_count": 3,
   "id": "115a5710-b756-423b-8e4b-148d6f9b7f4b",
   "metadata": {},
   "outputs": [],
   "source": [
    "def class_names_from_csv(labels_path):\n",
    "  \"\"\"Returns list of class names corresponding to score vector.\"\"\"\n",
    "  with open(labels_path) as csv_file:\n",
    "    csv_reader = csv.reader(csv_file, delimiter=',')\n",
    "    class_names = [mid for mid, desc in csv_reader]\n",
    "    return class_names[1:]"
   ]
  },
  {
   "cell_type": "code",
   "execution_count": 4,
   "id": "b1cd835d-0e37-46cf-9c43-2fb36f7e8620",
   "metadata": {},
   "outputs": [],
   "source": [
    "# This CSV file contains the classes in the Google model\n",
    "classes_model = class_names_from_csv('data/csv/label.csv')"
   ]
  },
  {
   "cell_type": "code",
   "execution_count": 24,
   "id": "13911e23-8a2c-4531-9b8b-2e1be440c657",
   "metadata": {},
   "outputs": [
    {
     "data": {
      "text/plain": [
       "['crelar1', 'eugwoo2', 'sylvia1', 'rinphe1']"
      ]
     },
     "execution_count": 24,
     "metadata": {},
     "output_type": "execute_result"
    }
   ],
   "source": [
    "list(set(classes_ede) - set(classes_model))"
   ]
  },
  {
   "cell_type": "code",
   "execution_count": 25,
   "id": "0abe1546-c3c2-4bbc-99b9-970825d4df2d",
   "metadata": {},
   "outputs": [],
   "source": [
    "df = con.sql('''\n",
    "    SELECT\n",
    "        *\n",
    "    FROM\n",
    "        bird_observations_ede_sc\n",
    "    WHERE\n",
    "        ebird_code_def IN ('crelar1', 'eugwoo2', 'sylvia1', 'rinphe1')\n",
    "''').df()"
   ]
  },
  {
   "cell_type": "code",
   "execution_count": 26,
   "id": "e96b2245-3850-49ad-afa5-cb4b11ec5c3c",
   "metadata": {},
   "outputs": [
    {
     "data": {
      "text/html": [
       "<div>\n",
       "<style scoped>\n",
       "    .dataframe tbody tr th:only-of-type {\n",
       "        vertical-align: middle;\n",
       "    }\n",
       "\n",
       "    .dataframe tbody tr th {\n",
       "        vertical-align: top;\n",
       "    }\n",
       "\n",
       "    .dataframe thead th {\n",
       "        text-align: right;\n",
       "    }\n",
       "</style>\n",
       "<table border=\"1\" class=\"dataframe\">\n",
       "  <thead>\n",
       "    <tr style=\"text-align: right;\">\n",
       "      <th></th>\n",
       "      <th>species</th>\n",
       "      <th>search_key</th>\n",
       "      <th>observation_sum</th>\n",
       "      <th>observation_cnt</th>\n",
       "      <th>ebird_code_def</th>\n",
       "    </tr>\n",
       "  </thead>\n",
       "  <tbody>\n",
       "    <tr>\n",
       "      <th>0</th>\n",
       "      <td>Galerida cristata</td>\n",
       "      <td>galerida+cristata</td>\n",
       "      <td>4.0</td>\n",
       "      <td>1</td>\n",
       "      <td>crelar1</td>\n",
       "    </tr>\n",
       "    <tr>\n",
       "      <th>1</th>\n",
       "      <td>Picus viridis</td>\n",
       "      <td>picus+viridis</td>\n",
       "      <td>17.0</td>\n",
       "      <td>16</td>\n",
       "      <td>eugwoo2</td>\n",
       "    </tr>\n",
       "    <tr>\n",
       "      <th>2</th>\n",
       "      <td>Sylvia curruca</td>\n",
       "      <td>sylvia+curruca</td>\n",
       "      <td>1.0</td>\n",
       "      <td>1</td>\n",
       "      <td>sylvia1</td>\n",
       "    </tr>\n",
       "    <tr>\n",
       "      <th>3</th>\n",
       "      <td>Phasianus colchicus</td>\n",
       "      <td>phasianus+colchicus</td>\n",
       "      <td>12.0</td>\n",
       "      <td>12</td>\n",
       "      <td>rinphe1</td>\n",
       "    </tr>\n",
       "  </tbody>\n",
       "</table>\n",
       "</div>"
      ],
      "text/plain": [
       "               species           search_key  observation_sum  observation_cnt  \\\n",
       "0    Galerida cristata    galerida+cristata              4.0                1   \n",
       "1        Picus viridis        picus+viridis             17.0               16   \n",
       "2       Sylvia curruca       sylvia+curruca              1.0                1   \n",
       "3  Phasianus colchicus  phasianus+colchicus             12.0               12   \n",
       "\n",
       "  ebird_code_def  \n",
       "0        crelar1  \n",
       "1        eugwoo2  \n",
       "2        sylvia1  \n",
       "3        rinphe1  "
      ]
     },
     "execution_count": 26,
     "metadata": {},
     "output_type": "execute_result"
    }
   ],
   "source": [
    "df"
   ]
  },
  {
   "cell_type": "code",
   "execution_count": 28,
   "id": "f9719560-84e0-4393-96ba-2cfdcbd40127",
   "metadata": {},
   "outputs": [],
   "source": [
    "con.close()"
   ]
  },
  {
   "cell_type": "code",
   "execution_count": null,
   "id": "7e997257-1453-4363-98f0-721564ef21c7",
   "metadata": {},
   "outputs": [],
   "source": [
    "# 'galerida+cristata', 'picus+viridis', 'sylvia+curruca', 'phasianus+colchicus'"
   ]
  }
 ],
 "metadata": {
  "kernelspec": {
   "display_name": "Python 3 (ipykernel)",
   "language": "python",
   "name": "python3"
  },
  "language_info": {
   "codemirror_mode": {
    "name": "ipython",
    "version": 3
   },
   "file_extension": ".py",
   "mimetype": "text/x-python",
   "name": "python",
   "nbconvert_exporter": "python",
   "pygments_lexer": "ipython3",
   "version": "3.10.9"
  }
 },
 "nbformat": 4,
 "nbformat_minor": 5
}
